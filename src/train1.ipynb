{
 "cells": [
  {
   "cell_type": "code",
   "execution_count": 1,
   "metadata": {},
   "outputs": [],
   "source": [
    "import os \n",
    "import glob\n",
    "import torch\n",
    "import numpy as np\n",
    "\n",
    "from sklearn import preprocessing\n",
    "from sklearn import model_selection\n",
    "from sklearn import metrics\n",
    "import matplotlib.pyplot as plt\n",
    "%matplotlib inline\n",
    "from pprint import pprint\n",
    "\n",
    "import config\n",
    "import dataset"
   ]
  },
  {
   "cell_type": "code",
   "execution_count": 2,
   "metadata": {},
   "outputs": [
    {
     "name": "stdout",
     "output_type": "stream",
     "text": [
      "../input/captcha_images_v2\n",
      "1040\n",
      "[[ 1  1  5 14 10]\n",
      " [ 1  1 10  4 15]\n",
      " [ 1  2  4  5 13]\n",
      " ...\n",
      " [19 19  7  1  3]\n",
      " [19 19 13  4 13]\n",
      " [19 19 15  4  6]]\n",
      "19\n"
     ]
    }
   ],
   "source": [
    "print(config.DATA_DIR)\n",
    "image_files = glob.glob(os.path.join(config.DATA_DIR, \"*.png\"))\n",
    "print(len(image_files))    \n",
    "targets_orig = [x.split(\"\\\\\")[-1][:-4] for x in image_files]\n",
    "targets = [[c for c in x] for x in targets_orig]\n",
    "target_flat = [c for clist in targets for c in clist]\n",
    "\n",
    "lbl_enc = preprocessing.LabelEncoder()\n",
    "lbl_enc.fit(target_flat)\n",
    "targets_enc = [lbl_enc.transform(x) for x in targets]\n",
    "targets_enc = np.array(targets_enc) + 1\n",
    "print(targets_enc)\n",
    "print(len(lbl_enc.classes_))\n",
    "\n",
    "train_imgs, test_imgs, train_targets, test_targets, _, test_orig_targets = model_selection.train_test_split(image_files, targets_enc, targets_orig, test_size=0.1, random_state=42)\n",
    "\n",
    "train_dataset = dataset.Classification(image_paths=train_imgs, targets= train_targets, resize=(config.IMAGE_HEIGHT, config.IMAGE_WIDTH))\n",
    "train_dataloader = torch.utils.data.DataLoader(train_dataset, batch_size=config.BATCH_SIZE, num_workers=config.NUM_WORKERS, shuffle=True)\n",
    "\n",
    "\n",
    "test_dataset = dataset.Classification(image_paths=test_imgs, targets= test_targets, resize=(config.IMAGE_HEIGHT, config.IMAGE_WIDTH))\n",
    "test_dataloader = torch.utils.data.DataLoader(test_dataset, batch_size=config.BATCH_SIZE, num_workers=config.NUM_WORKERS, shuffle=False )\n",
    "\n",
    "\n"
   ]
  },
  {
   "cell_type": "code",
   "execution_count": 3,
   "metadata": {},
   "outputs": [
    {
     "name": "stdout",
     "output_type": "stream",
     "text": [
      "['226md', '22d5n', '2356g', '23mdg', '23n88', '243mm', '244e2', '245y5', '24f6w', '24pew', '25257', '253dc', '25egp', '25m6p', '25p2m', '25w53', '264m5', '268g2', '28348', '28x47', '2b827', '2bg48', '2cegf', '2cg58', '2cgyx', '2en7g', '2enf4', '2fxgd', '2g783', '2g7nm', '2gyb6', '2mg87', '2mpnn', '2n73f', '2nbcx', '2nf26', '2npg6', '2nx38', '2p2y8', '2pfpn', '2w4y7', '2wc38', '2wx73', '2x7bm', '2xc2n', '2ycn8', '2yggg', '325fb', '32cnn', '32dnn', '33b22', '33f7m', '33n73', '33ng4', '33p4e', '34b84', '34fxm', '34pcn', '368y5', '36bc2', '36nx4', '36w25', '373gb', '377xx', '378e5', '37d52', '37ep6', '387g2', '38n57', '3b4we', '3bd8f', '3bfnd', '3bnyf', '3bx86', '3cpwb', '3d7bd', '3den6', '3dgmf', '3ebnn', '3ebpw', '3eny7', '3fbxd', '3g2w6', '3mxdn', '3n2b4', '3n3cf', '3n7mx', '3ndxd', '3nfdn', '3nnpw', '3nw7w', '3ny45', '3p4nn', '3p67n', '3pe4g', '3w2bw', '3wnd3', '3x325', '3x5fm', '3xcgg', '3xng6', '3ye2e', '3ygde', '3ym7f', '428b6', '42dw4', '42nxy', '42xpy', '43gey', '43mn5', '43p5d', '43xfe', '4433m', '445cc', '44c22', '44fyb', '44xe8', '44ype', '467d5', '46mbm', '4743p', '474ff', '478nx', '47e4p', '47m2b', '488de', '4b2pw', '4c8n8', '4cfw8', '4cn7b', '4d22m', '4dgf7', '4dw3w', '4egem', '4exnn', '4f8yp', '4fc36', '4fp5g', '4gb3f', '4gycb', '4m2w5', '4n2yg', '4n3mn', '4nc37', '4nnf3', '4w6mw', '4w76g', '4yc85', '4ycex', '4ynf3', '52447', '5325m', '537nf', '53mn8', '53wb8', '53wp3', '556wd', '55w5c', '55y2m', '56c34', '56m6y', '56ncx', '573bn', '573d8', '574d7', '57b27', '57gnx', '57wdp', '58b5m', '58pnp', '5bb66', '5bg8f', '5bgp2', '5bnd7', '5dxnm', '5ep3n', '5expp', '5f3gf', '5fyem', '5g5e5', '5gcd3', '5mcy7', '5mf7c', '5mfff', '5mgn4', '5mnpd', '5n245', '5n3w4', '5n728', '5n732', '5ng6e', '5nggg', '5nm6d', '5nnff', '5np4m', '5npdn', '5nxnn', '5p3mm', '5p8fm', '5pm6b', '5wddw', '5x5nx', '5x7x5', '5xd2e', '5xwcg', '5ywwf', '5yxgp', '62nb3', '63824', '63pxe', '646x8', '64b3p', '64m82', '658xe', '65ebm', '65m85', '662bw', '664dn', '664nf', '66wp5', '675p3', '677g3', '678w3', '67dey', '6825y', '68wfd', '68x48', '6b46g', '6b4w6', '6bdn5', '6bnnm', '6bxwg', '6c3n6', '6c3p5', '6cm6m', '6cwxe', '6dd2y', '6dmx7', '6e2dg', '6e554', '6e6pn', '6ecbn', '6end3', '6f2yc', '6f857', '6fg8c', '6fgdw', '6fn84', '6g45w', '6ge3p', '6gnm3', '6m5eg', '6mege', '6mn8n', '6mygb', '6n443', '6n5fd', '6n6gg', '6ng6n', '6ng6w', '6p2ge', '6p7gx', '6pfy4', '6pwcn', '6wb76', '6wg4n', '6wnyc', '6xen4', '6xpme', '6xxdx', '6ydyp', '728n8', '72m6f', '73mnx', '74853', '74eyg', '75pfw', '7634y', '76353', '76n7p', '76nxn', '76y6f', '77387', '77n6g', '77wp4', '785n4', '78eec', '7b4bm', '7bb7b', '7bwm2', '7cdge', '7cgym', '7d44m', '7dgc2', '7dwx4', '7dxbd', '7dyww', '7e2y7', '7f8b3', '7fde7', '7fmcy', '7g3nf', '7gce6', '7gmf3', '7gnge', '7gp47', '7m8px', '7mgmf', '7nnnx', '7p852', '7pcd7', '7pn5g', '7w67m', '7wn74', '7wnpm', '7wyp4', '7xcyd', '7xd5m', '7y2x4', '7yf62', '823p2', '82fx2', '832f3', '84w7x', '85622', '85dxn', '865wm', '8684m', '87d4c', '87nym', '88bgx', '88y52', '8b735', '8bbm4', '8bbw8', '8c23f', '8c2wy', '8cccc', '8cm46', '8d2nd', '8d4wm', '8d8ep', '8db67', '8e32m', '8eggg', '8fexn', '8g4yp', '8gecm', '8gf7n', '8gmc4', '8gmnx', '8n2pg', '8n34n', '8n4n8', '8n56m', '8n5p3', '8n5pn', '8n62n', '8n65n', '8nbew', '8ne4g', '8nn73', '8np22', '8npd5', '8npe3', '8pfxx', '8w754', '8w875', '8wy7d', '8xef7', '8y63f', '8y6b3', '8ypdn', 'b26nd', 'b28g8', 'b2g8e', 'b2nen', 'b35f6', 'b3xpn', 'b43nw', 'b4d7c', 'b4ncn', 'b4y5x', 'b55d6', 'b5dn4', 'b5fm7', 'b5nmm', 'b5pnn', 'b685n', 'b6f2p', 'b84xc', 'bbymy', 'bc8nf', 'bcwnn', 'bd3b7', 'bdbb3', 'bdg84', 'be3bp', 'be6np', 'befbd', 'bf52c', 'bgb48', 'bgd4m', 'bgem5', 'bm3p8', 'bmxpe', 'bn5mw', 'bnc2f', 'bnc5f', 'bny23', 'bny4w', 'bp2d4', 'bp6mw', 'bpwd7', 'bw44w', 'bw5nf', 'bw5ym', 'bw6n6', 'bwmee', 'bxxfc', 'by5y3', 'byc82', 'byfgn', 'c2fb7', 'c2g4d', 'c2pg6', 'c2yn8', 'c353e', 'c3572', 'c3n8x', 'c43b4', 'c4527', 'c482b', 'c4bgd', 'c4bny', 'c4mcm', 'c55c6', 'c5xne', 'c6745', 'c6f8g', 'c6we6', 'c753e', 'c7gb3', 'c7nn8', 'c86md', 'c8fxy', 'c8n8c', 'cb8cf', 'cc845', 'ccf2w', 'ccn2x', 'cd4eg', 'cd6p4', 'cdcb3', 'cdf77', 'cdfen', 'cdmn8', 'cen55', 'cewnm', 'cfc2y', 'cfc56', 'cffp4', 'cfn53', 'cfp86', 'cfw6e', 'cg5dd', 'cgcgb', 'cm6yb', 'cnex4', 'cnmnn', 'cnwyc', 'cpc8c', 'cpe63', 'cwdnx', 'cwgyx', 'cwmny', 'cx3wg', 'cy3nw', 'd22bd', 'd22n7', 'd22y5', 'd236n', 'd2nbn', 'd2ycw', 'd378n', 'd3c7y', 'd3c8y', 'd3ycn', 'd4n82', 'd4ppy', 'd666m', 'd66cn', 'd6fcn', 'd75b5', 'd7c5x', 'd7en3', 'd7nn3', 'd8dce', 'd8xcn', 'dbex3', 'dbfen', 'dbny3', 'dbpcd', 'dc436', 'dce8y', 'dcnp8', 'dd5w5', 'dd764', 'ddcdd', 'ddcne', 'ddmyg', 'ddnpf', 'ddpyb', 'de45x', 'de7f8', 'deep5', 'defyx', 'deneb', 'dfnx4', 'dmw8n', 'dmx8p', 'dmxp8', 'dn26n', 'dn2ym', 'dn5df', 'dnmd8', 'dnne7', 'dnxdp', 'dpbyd', 'dw3nn', 'dw6mn', 'dw8d3', 'dxwcw', 'dy3cx', 'dyp7n', 'dyxnc', 'e25xg', 'e2d66', 'e2mg2', 'e3ndn', 'e43ym', 'e46pd', 'e46yw', 'e4gd7', 'e5n66', 'e667x', 'e6b7y', 'e6m6p', 'e72cd', 'e76n4', 'e7nx4', 'e7x45', 'e84n2', 'e8dxn', 'e8e5e', 'ebcbx', 'ec6pm', 'ecd4w', 'edg3p', 'edwny', 'ee8fg', 'een23', 'ef4mn', 'ef4np', 'efb3f', 'efe62', 'efg72', 'efgx5', 'efx34', 'egxmp', 'emwpn', 'en32e', 'en4n4', 'eng53', 'enn7n', 'ennmm', 'enpw2', 'ep85x', 'eppg3', 'ewcf5', 'ewnx8', 'excmn', 'exycn', 'f228n', 'f22bn', 'f2fge', 'f2m8n', 'f35xp', 'f364x', 'f4fn2', 'f4wfn', 'f5cm2', 'f5e5e', 'f6ne5', 'f6ww8', 'f74x3', 'f753f', 'f75cx', 'f7cey', 'f83pn', 'f858x', 'f85y3', 'f8f8g', 'fbp2c', 'fc2ff', 'fc6xb', 'fcey3', 'fcmem', 'fcne6', 'fdpgd', 'feyc8', 'ffd6p', 'ffnxn', 'ffpxf', 'fg38b', 'fg7mg', 'fg8n4', 'fnbfw', 'fncnb', 'fp382', 'fp3wy', 'fp5wn', 'fp762', 'fpw76', 'fw3b2', 'fwxdp', 'fxpw3', 'fy2nd', 'fyfbn', 'fywb8', 'g247w', 'g2577', 'g2fnw', 'g3dy6', 'g3ex3', 'g55b4', 'g6n7x', 'g78gn', 'g7fmc', 'g7gnf', 'g7wxw', 'g842c', 'g888x', 'g8gnd', 'gbxyy', 'gc277', 'gc2wd', 'gc83b', 'gcfgp', 'gcx6f', 'gd4mf', 'gd8fb', 'gdng3', 'gecmf', 'gegw4', 'gewfy', 'gf2g4', 'gfbx6', 'gfp54', 'gfxcc', 'ggd7m', 'gm2c2', 'gm6nn', 'gm7n8', 'gn2d3', 'gn2xy', 'gnbde', 'gnbn4', 'gnc3n', 'gnf85', 'gng6e', 'gny6b', 'gp22x', 'gp7c5', 'gpnxn', 'gpxng', 'gw468', 'gw53m', 'gwn53', 'gwnm6', 'gxx2p', 'gxxpf', 'gy433', 'gy5bf', 'gy8xb', 'gymmn', 'm22e3', 'm23bp', 'm2576', 'm2nf4', 'm3588', 'm3b5p', 'm3wfw', 'm448b', 'm457d', 'm4fd8', 'm4g8g', 'm5meg', 'm5ym2', 'm67b3', 'm6n4x', 'm74dm', 'm75bf', 'm8gmx', 'm8m4x', 'mb4en', 'mbf58', 'mbp2y', 'mc35n', 'mc8w2', 'mcc2x', 'mcg43', 'mcyfx', 'md344', 'mddgb', 'mdxpn', 'mdyp7', 'men4f', 'mfb3x', 'mfc35', 'mg5nn', 'mgdwb', 'mggce', 'mgw3n', 'mm3nn', 'mmc5n', 'mmfm6', 'mmg2m', 'mmg38', 'mmy5n', 'mn5c4', 'mnef5', 'mp7wp', 'mpmy5', 'mpxfb', 'mw5p2', 'mwdf6', 'mwxwp', 'mx8bb', 'mxnw4', 'mxyxw', 'my84e', 'myc3c', 'mye68', 'myf82', 'n265y', 'n2by7', 'n2gmg', 'n336e', 'n373n', 'n3bm6', 'n3ffn', 'n3m6x', 'n3x4c', 'n464c', 'n4b4m', 'n4cpy', 'n4wwn', 'n4xx5', 'n5cm7', 'n5n8b', 'n5w5g', 'n5wbg', 'n5x2n', 'n6f4b', 'n6nn2', 'n6xc5', 'n7dyb', 'n7ebx', 'n7enn', 'n7ff2', 'n7g4f', 'n7meb', 'n8fp6', 'n8pfe', 'n8ydd', 'nb267', 'nb45d', 'nbcgb', 'nbf8m', 'nbfx5', 'nbmx7', 'nbp3e', 'nbwnn', 'nbwpn', 'nc4yg', 'ncfgb', 'ncw4g', 'ncww7', 'ncyx8', 'nd5wg', 'ndecc', 'ndg2b', 'ndme7', 'ndyfe', 'ne325', 'neecd', 'neggn', 'nf2n8', 'nf7bn', 'nf8b8', 'nfbg8', 'nfcb5', 'nfcwy', 'nfd8g', 'nfg23', 'nfndw', 'ng2gw', 'ng46m', 'ng6yp', 'ng756', 'ngn26', 'nm248', 'nm46n', 'nmw46', 'nmy2x', 'nn4wx', 'nn6mg', 'nnf8b', 'nnfx3', 'nngxc', 'nnn57', 'nnn5p', 'nnp4e', 'nny5e', 'npxb7', 'nw5b2', 'nwfde', 'nwg2m', 'nwncn', 'nxc83', 'nxcmn', 'nxn4f', 'nxx25', 'nxxf8', 'ny3dw', 'ny3nn', 'ny5dp', 'ny8np', 'nybcx', 'p24gn', 'p2dw7', 'p2m6n', 'p2x7x', 'p2ym2', 'p4nm4', 'p4pde', 'p57fn', 'p5g5m', 'p5nce', 'p6mn8', 'p7fyp', 'p8c24', 'p8ngx', 'p8wwf', 'pbpgc', 'pcede', 'pcm7f', 'pcpg6', 'pdcp4', 'pdw38', 'pdyc8', 'pe4xn', 'pf4nb', 'pf5ng', 'pg2pm', 'pg2yx', 'pg4bf', 'pgg3n', 'pgm2e', 'pgmn2', 'pgwnp', 'pm363', 'pm47f', 'pmd3w', 'pme86', 'pmf5w', 'pmg55', 'pn7pn', 'pnmxf', 'pnnwy', 'pp546', 'pp87n', 'ppwyd', 'ppx77', 'pw5nc', 'pwebm', 'pwmbn', 'pwn5e', 'px2xp', 'px8n8', 'pxdwp', 'pxne8', 'pybee', 'pyefb', 'pyf65', 'pym7p', 'w2e87', 'w2n7e', 'w2yp7', 'w46ep', 'w48cw', 'w4cdc', 'w4cnn', 'w4nfx', 'w4x2m', 'w52fn', 'w6pxy', 'w6yne', 'w75w8', 'w7e6m', 'w8bnx', 'w8f36', 'wb3ed', 'wbncw', 'wc2bd', 'wce5n', 'wd2gb', 'wddcp', 'wdww8', 'wecfd', 'wf684', 'wfy5m', 'wg625', 'wgnwp', 'wm47f', 'wm746', 'wmpmp', 'wnmyn', 'wnpec', 'wwmn6', 'wxcn8', 'wxy4n', 'wyc25', 'wye85', 'x277e', 'x2cnn', 'x347n', 'x362g', 'x37bf', 'x38fn', 'x3deb', 'x3fwf', 'x44n4', 'x458w', 'x4f7g', 'x4gg5', 'x4pnp', 'x5f54', 'x5nyn', 'x6b5m', 'x6pdb', 'x7422', 'x74b2', 'x7547', 'x76mn', 'x7746', 'x775w', 'x8e8n', 'x8xnp', 'xbcbx', 'xbem6', 'xc68n', 'xce8d', 'xcf88', 'xcmbp', 'xdcn4', 'xdn65', 'xe6eb', 'xe8xm', 'xemyg', 'xf4p4', 'xf5g7', 'xfg65', 'xfgxb', 'xfn6n', 'xgcxy', 'xmcym', 'xnd3y', 'xnfx5', 'xngxc', 'xnn4d', 'xnnc3', 'xp24p', 'xw465', 'xwx7d', 'xxbm5', 'xxney', 'xxw44', 'xymfn', 'xyncc', 'xyyyw', 'y2436', 'y2xg4', 'y2ye8', 'y32yy', 'y33nm', 'y3c58', 'y48c3', 'y4ec2', 'y4g3b', 'y4n6m', 'y53c2', 'y5dpp', 'y5g87', 'y5n6d', 'y5w28', 'y7d75', 'y7mnm', 'y7x8p', 'y866y', 'ybfx6', 'ycmcw', 'ycnfc', 'yd38e', 'yd3m3', 'yd755', 'ydd3g', 'ydg8n', 'yemy4', 'yew6p', 'yeyn4', 'yf28d', 'yf347', 'yf424', 'yfdn7', 'yg5bb', 'ygenn', 'ygfwe', 'ymp7g', 'ypp8f', 'ypw3d', 'yw667', 'yw7ny', 'ywn6f', 'yx2d4', 'yxd7m', 'yy824', 'yyg5g', 'yyn57']\n"
     ]
    }
   ],
   "source": [
    "print(targets_orig)"
   ]
  },
  {
   "cell_type": "code",
   "execution_count": 4,
   "metadata": {},
   "outputs": [],
   "source": [
    "npimg = train_dataset[0][\"images\"]"
   ]
  },
  {
   "cell_type": "code",
   "execution_count": 5,
   "metadata": {},
   "outputs": [
    {
     "name": "stderr",
     "output_type": "stream",
     "text": [
      "Clipping input data to the valid range for imshow with RGB data ([0..1] for floats or [0..255] for integers). Got range [-2.117904..2.6225708].\n"
     ]
    },
    {
     "data": {
      "text/plain": [
       "<matplotlib.image.AxesImage at 0x1f69204a5a0>"
      ]
     },
     "execution_count": 5,
     "metadata": {},
     "output_type": "execute_result"
    },
    {
     "data": {
      "image/png": "[encoded data removed]",
      "text/plain": [
       "<Figure size 640x480 with 1 Axes>"
      ]
     },
     "metadata": {},
     "output_type": "display_data"
    }
   ],
   "source": [
    "plt.imshow(np.transpose(npimg, (1,2,0)))"
   ]
  },
  {
   "cell_type": "code",
   "execution_count": 6,
   "metadata": {},
   "outputs": [],
   "source": [
    "from model import CaptchaModel\n",
    "import engine"
   ]
  },
  {
   "cell_type": "code",
   "execution_count": 7,
   "metadata": {},
   "outputs": [],
   "source": [
    "def decode_predictions(preds, encoder):\n",
    "    preds = preds.permute(1,0,2)\n",
    "    preds = torch.softmax(preds,2)\n",
    "    preds = torch.argmax(preds, 2)\n",
    "    preds = preds.detach().cpu().numpy()\n",
    "    cap_preds = []\n",
    "    for j in range(preds.shape[0]):\n",
    "        temp = []\n",
    "        for k in preds[j, :]:\n",
    "            k = k - 1\n",
    "            if k==-1:\n",
    "                temp.append(\"*\")\n",
    "            else:\n",
    "                temp.append(encoder.inverse_transform([k])[0])\n",
    "        tp = \"\".join(temp)\n",
    "        cap_preds.append(tp)\n",
    "    return cap_preds"
   ]
  },
  {
   "cell_type": "code",
   "execution_count": 8,
   "metadata": {},
   "outputs": [
    {
     "name": "stdout",
     "output_type": "stream",
     "text": [
      "['4fc36', 'fyfbn', '5mgn4', '2mg87', 'gw53m', 'x2cnn', '7bwm2', '8684m', 'd66cn', 'bd3b7', 'gnbde', 'e667x', 'pgm2e', 'n5w5g', '6n5fd', '3den6', 'n8fp6', 'p6mn8', '88y52', 'fywb8', 'xe6eb', 'ngn26', 'b35f6', 'mggce', 'fp762', 'c3n8x', 'wce5n', '3n7mx', '7y2x4', 'f4wfn', '5dxnm', '63824', 'dmw8n', 'xemyg', 'x74b2', '445cc', 'c6f8g', 'e8e5e', 'e3ndn', '36bc2', 'e72cd', 'm457d', 'm2nf4', '5pm6b', 'nbcgb', 'mpxfb', 'c7gb3', 'defyx', 'x4pnp', '76nxn', '82fx2', '32dnn', 'pwmbn', '43mn5', 'xngxc', 'yd3m3', 'y5n6d', 'xbem6', '25257', 'dbny3', 'dn2ym', 'gm2c2', '3bd8f', 'yyn57', 'fxpw3', '6p7gx', '8nn73', 'be6np', '8db67', 'c55c6', 'dw6mn', '8b735', '4gycb', 'pp546', 'n5cm7', '7w67m', 'wgnwp', '4n2yg', 'yx2d4', 'yeyn4', 'men4f', 'x5f54', '3nfdn', 'p2m6n', '7gp47', '3ye2e', '7pcd7', 'pdcp4', 'cd4eg', '3wnd3', 'nmw46', 'ndg2b', '2gyb6', '55y2m', 'm2576', '33p4e', '2cg58', 'ffd6p', 'mxnw4', 'gbxyy', 'g3dy6', 'f85y3', '5fyem', '23mdg']\n"
     ]
    }
   ],
   "source": [
    "print(test_orig_targets)"
   ]
  },
  {
   "cell_type": "code",
   "execution_count": null,
   "metadata": {},
   "outputs": [
    {
     "name": "stderr",
     "output_type": "stream",
     "text": [
      "c:\\Users\\chand\\anaconda3\\envs\\pytorch\\Lib\\site-packages\\torch\\optim\\lr_scheduler.py:62: UserWarning: The verbose parameter is deprecated. Please use get_last_lr() to access the learning rate.\n",
      "  warnings.warn(\n",
      "100%|██████████| 117/117 [00:07<00:00, 15.93it/s]\n",
      "100%|██████████| 13/13 [00:05<00:00,  2.29it/s]\n"
     ]
    },
    {
     "name": "stdout",
     "output_type": "stream",
     "text": [
      "[('7bwm2', '**************************************************'),\n",
      " ('8684m', '**************************************************'),\n",
      " ('d66cn', '**************************************************'),\n",
      " ('bd3b7', '**************************************************'),\n",
      " ('gnbde', '**************************************************')]\n",
      "Epoch: 0, train_loss=7.139245163681161, valid_loss=3.3178330201369066\n"
     ]
    },
    {
     "name": "stderr",
     "output_type": "stream",
     "text": [
      "100%|██████████| 117/117 [00:06<00:00, 17.16it/s]\n",
      "100%|██████████| 13/13 [00:04<00:00,  2.69it/s]\n"
     ]
    },
    {
     "name": "stdout",
     "output_type": "stream",
     "text": [
      "[('7bwm2', '**************************************************'),\n",
      " ('8684m', '**************************************************'),\n",
      " ('d66cn', '**************************************************'),\n",
      " ('bd3b7', '**************************************************'),\n",
      " ('gnbde', '**************************************************')]\n",
      "Epoch: 1, train_loss=3.314894154540494, valid_loss=3.3009824752807617\n"
     ]
    },
    {
     "name": "stderr",
     "output_type": "stream",
     "text": [
      "100%|██████████| 117/117 [00:06<00:00, 17.70it/s]\n",
      "100%|██████████| 13/13 [00:04<00:00,  2.65it/s]\n"
     ]
    },
    {
     "name": "stdout",
     "output_type": "stream",
     "text": [
      "[('7bwm2', '**************************************************'),\n",
      " ('8684m', '**************************************************'),\n",
      " ('d66cn', '**************************************************'),\n",
      " ('bd3b7', '**************************************************'),\n",
      " ('gnbde', '**************************************************')]\n",
      "Epoch: 2, train_loss=3.2939928393078666, valid_loss=3.2924897487346945\n"
     ]
    },
    {
     "name": "stderr",
     "output_type": "stream",
     "text": [
      "100%|██████████| 117/117 [00:07<00:00, 16.55it/s]\n",
      "100%|██████████| 13/13 [00:06<00:00,  2.13it/s]\n"
     ]
    },
    {
     "name": "stdout",
     "output_type": "stream",
     "text": [
      "[('7bwm2', '**************************************************'),\n",
      " ('8684m', '**************************************************'),\n",
      " ('d66cn', '**************************************************'),\n",
      " ('bd3b7', '**************************************************'),\n",
      " ('gnbde', '**************************************************')]\n",
      "Epoch: 3, train_loss=3.287223104737763, valid_loss=3.2883069882026086\n"
     ]
    },
    {
     "name": "stderr",
     "output_type": "stream",
     "text": [
      "100%|██████████| 117/117 [00:08<00:00, 14.50it/s]\n",
      "100%|██████████| 13/13 [00:04<00:00,  2.69it/s]\n"
     ]
    },
    {
     "name": "stdout",
     "output_type": "stream",
     "text": [
      "[('7bwm2', '**************************************************'),\n",
      " ('8684m', '**************************************************'),\n",
      " ('d66cn', '**************************************************'),\n",
      " ('bd3b7', '**************************************************'),\n",
      " ('gnbde', '**************************************************')]\n",
      "Epoch: 4, train_loss=3.279623219090649, valid_loss=3.284195753244253\n"
     ]
    },
    {
     "name": "stderr",
     "output_type": "stream",
     "text": [
      "100%|██████████| 117/117 [00:07<00:00, 15.79it/s]\n",
      "100%|██████████| 13/13 [00:04<00:00,  2.91it/s]\n"
     ]
    },
    {
     "name": "stdout",
     "output_type": "stream",
     "text": [
      "[('7bwm2', '**************************************************'),\n",
      " ('8684m', '**************************************************'),\n",
      " ('d66cn', '**************************************************'),\n",
      " ('bd3b7', '**************************************************'),\n",
      " ('gnbde', '**************************************************')]\n",
      "Epoch: 5, train_loss=3.276673753037412, valid_loss=3.282674349271334\n"
     ]
    },
    {
     "name": "stderr",
     "output_type": "stream",
     "text": [
      "100%|██████████| 117/117 [00:07<00:00, 16.08it/s]\n",
      "100%|██████████| 13/13 [00:04<00:00,  2.79it/s]\n"
     ]
    },
    {
     "name": "stdout",
     "output_type": "stream",
     "text": [
      "[('7bwm2', '**************************************************'),\n",
      " ('8684m', '**************************************************'),\n",
      " ('d66cn', '**************************************************'),\n",
      " ('bd3b7', '**************************************************'),\n",
      " ('gnbde', '**************************************************')]\n",
      "Epoch: 6, train_loss=3.274526274102366, valid_loss=3.2778984950138974\n"
     ]
    },
    {
     "name": "stderr",
     "output_type": "stream",
     "text": [
      "100%|██████████| 117/117 [00:07<00:00, 16.17it/s]\n",
      "100%|██████████| 13/13 [00:04<00:00,  3.05it/s]\n"
     ]
    },
    {
     "name": "stdout",
     "output_type": "stream",
     "text": [
      "[('7bwm2', '**************************************************'),\n",
      " ('8684m', '**************************************************'),\n",
      " ('d66cn', '**************************************************'),\n",
      " ('bd3b7', '**************************************************'),\n",
      " ('gnbde', '**************************************************')]\n",
      "Epoch: 7, train_loss=3.271231009409978, valid_loss=3.2773244564349833\n"
     ]
    },
    {
     "name": "stderr",
     "output_type": "stream",
     "text": [
      "100%|██████████| 117/117 [00:07<00:00, 15.77it/s]\n",
      "100%|██████████| 13/13 [00:04<00:00,  2.74it/s]\n"
     ]
    },
    {
     "name": "stdout",
     "output_type": "stream",
     "text": [
      "[('7bwm2', '**************************************************'),\n",
      " ('8684m', '**************************************************'),\n",
      " ('d66cn', '**************************************************'),\n",
      " ('bd3b7', '**************************************************'),\n",
      " ('gnbde', '**************************************************')]\n",
      "Epoch: 8, train_loss=3.270273365526118, valid_loss=3.2755245062021108\n"
     ]
    },
    {
     "name": "stderr",
     "output_type": "stream",
     "text": [
      "100%|██████████| 117/117 [00:07<00:00, 15.99it/s]\n",
      "100%|██████████| 13/13 [00:04<00:00,  3.03it/s]\n"
     ]
    },
    {
     "name": "stdout",
     "output_type": "stream",
     "text": [
      "[('7bwm2', '**************************************************'),\n",
      " ('8684m', '**************************************************'),\n",
      " ('d66cn', '**************************************************'),\n",
      " ('bd3b7', '**************************************************'),\n",
      " ('gnbde', '**************************************************')]\n",
      "Epoch: 9, train_loss=3.269431678657858, valid_loss=3.276906416966365\n"
     ]
    },
    {
     "name": "stderr",
     "output_type": "stream",
     "text": [
      "100%|██████████| 117/117 [00:07<00:00, 15.54it/s]\n",
      "100%|██████████| 13/13 [00:04<00:00,  2.79it/s]\n"
     ]
    },
    {
     "name": "stdout",
     "output_type": "stream",
     "text": [
      "[('7bwm2', '**************************************************'),\n",
      " ('8684m', '**************************************************'),\n",
      " ('d66cn', '**************************************************'),\n",
      " ('bd3b7', '**************************************************'),\n",
      " ('gnbde', '**************************************************')]\n",
      "Epoch: 10, train_loss=3.2674910777654405, valid_loss=3.274685951379629\n"
     ]
    },
    {
     "name": "stderr",
     "output_type": "stream",
     "text": [
      "100%|██████████| 117/117 [00:07<00:00, 15.76it/s]\n",
      "100%|██████████| 13/13 [00:04<00:00,  3.01it/s]\n"
     ]
    },
    {
     "name": "stdout",
     "output_type": "stream",
     "text": [
      "[('7bwm2', '**************************************************'),\n",
      " ('8684m', '**************************************************'),\n",
      " ('d66cn', '**************************************************'),\n",
      " ('bd3b7', '**************************************************'),\n",
      " ('gnbde', '**************************************************')]\n",
      "Epoch: 11, train_loss=3.2682840742616572, valid_loss=3.2748869565817027\n"
     ]
    },
    {
     "name": "stderr",
     "output_type": "stream",
     "text": [
      "100%|██████████| 117/117 [00:07<00:00, 15.67it/s]\n",
      "100%|██████████| 13/13 [00:04<00:00,  3.00it/s]\n"
     ]
    },
    {
     "name": "stdout",
     "output_type": "stream",
     "text": [
      "[('7bwm2', '**************************************************'),\n",
      " ('8684m', '**************************************************'),\n",
      " ('d66cn', '**************************************************'),\n",
      " ('bd3b7', '**************************************************'),\n",
      " ('gnbde', '**************************************************')]\n",
      "Epoch: 12, train_loss=3.266591720091991, valid_loss=3.2759187588324914\n"
     ]
    },
    {
     "name": "stderr",
     "output_type": "stream",
     "text": [
      "100%|██████████| 117/117 [00:07<00:00, 16.28it/s]\n",
      "100%|██████████| 13/13 [00:04<00:00,  3.00it/s]\n"
     ]
    },
    {
     "name": "stdout",
     "output_type": "stream",
     "text": [
      "[('7bwm2', '**************************************************'),\n",
      " ('8684m', '**************************************************'),\n",
      " ('d66cn', '**************************************************'),\n",
      " ('bd3b7', '**************************************************'),\n",
      " ('gnbde', '**************************************************')]\n",
      "Epoch: 13, train_loss=3.2647238592816215, valid_loss=3.2751776438492994\n"
     ]
    },
    {
     "name": "stderr",
     "output_type": "stream",
     "text": [
      "100%|██████████| 117/117 [00:07<00:00, 16.48it/s]\n",
      "100%|██████████| 13/13 [00:04<00:00,  2.96it/s]\n"
     ]
    },
    {
     "name": "stdout",
     "output_type": "stream",
     "text": [
      "[('7bwm2', '**************************************************'),\n",
      " ('8684m', '**************************************************'),\n",
      " ('d66cn', '**************************************************'),\n",
      " ('bd3b7', '**************************************************'),\n",
      " ('gnbde', '**************************************************')]\n",
      "Epoch: 14, train_loss=3.2665749492808285, valid_loss=3.276213132418119\n"
     ]
    },
    {
     "name": "stderr",
     "output_type": "stream",
     "text": [
      "100%|██████████| 117/117 [00:07<00:00, 16.03it/s]\n",
      "100%|██████████| 13/13 [00:04<00:00,  2.94it/s]\n"
     ]
    },
    {
     "name": "stdout",
     "output_type": "stream",
     "text": [
      "[('7bwm2', '**************************************************'),\n",
      " ('8684m', '**************************************************'),\n",
      " ('d66cn', '**************************************************'),\n",
      " ('bd3b7', '**************************************************'),\n",
      " ('gnbde', '**************************************************')]\n",
      "Epoch: 15, train_loss=3.2651119517464924, valid_loss=3.273769048544077\n"
     ]
    },
    {
     "name": "stderr",
     "output_type": "stream",
     "text": [
      "100%|██████████| 117/117 [00:07<00:00, 16.30it/s]\n",
      "100%|██████████| 13/13 [00:04<00:00,  2.95it/s]\n"
     ]
    },
    {
     "name": "stdout",
     "output_type": "stream",
     "text": [
      "[('7bwm2', '**************************************************'),\n",
      " ('8684m', '**************************************************'),\n",
      " ('d66cn', '**************************************************'),\n",
      " ('bd3b7', '**************************************************'),\n",
      " ('gnbde', '**************************************************')]\n",
      "Epoch: 16, train_loss=3.2654588854211006, valid_loss=3.2739499532259426\n"
     ]
    },
    {
     "name": "stderr",
     "output_type": "stream",
     "text": [
      "100%|██████████| 117/117 [00:07<00:00, 16.44it/s]\n",
      "100%|██████████| 13/13 [00:04<00:00,  2.98it/s]\n"
     ]
    },
    {
     "name": "stdout",
     "output_type": "stream",
     "text": [
      "[('7bwm2', '**************************************************'),\n",
      " ('8684m', '**************************************************'),\n",
      " ('d66cn', '**************************************************'),\n",
      " ('bd3b7', '**************************************************'),\n",
      " ('gnbde', '**************************************************')]\n",
      "Epoch: 17, train_loss=3.2656916043697257, valid_loss=3.278765403307401\n"
     ]
    },
    {
     "name": "stderr",
     "output_type": "stream",
     "text": [
      "100%|██████████| 117/117 [00:07<00:00, 15.62it/s]\n",
      "100%|██████████| 13/13 [00:04<00:00,  2.73it/s]\n"
     ]
    },
    {
     "name": "stdout",
     "output_type": "stream",
     "text": [
      "[('7bwm2', '**************************************************'),\n",
      " ('8684m', '**************************************************'),\n",
      " ('d66cn', '**************************************************'),\n",
      " ('bd3b7', '**************************************************'),\n",
      " ('gnbde', '**************************************************')]\n",
      "Epoch: 18, train_loss=3.266687069183741, valid_loss=3.271870209620549\n"
     ]
    },
    {
     "name": "stderr",
     "output_type": "stream",
     "text": [
      "100%|██████████| 117/117 [00:07<00:00, 15.67it/s]\n",
      "100%|██████████| 13/13 [00:04<00:00,  3.01it/s]\n"
     ]
    },
    {
     "name": "stdout",
     "output_type": "stream",
     "text": [
      "[('7bwm2', '**************************************************'),\n",
      " ('8684m', '**************************************************'),\n",
      " ('d66cn', '**************************************************'),\n",
      " ('bd3b7', '**************************************************'),\n",
      " ('gnbde', '**************************************************')]\n",
      "Epoch: 19, train_loss=3.2663337328495126, valid_loss=3.2728988023904653\n"
     ]
    },
    {
     "name": "stderr",
     "output_type": "stream",
     "text": [
      "100%|██████████| 117/117 [00:07<00:00, 15.43it/s]\n",
      "100%|██████████| 13/13 [00:04<00:00,  3.05it/s]\n"
     ]
    },
    {
     "name": "stdout",
     "output_type": "stream",
     "text": [
      "[('7bwm2', '**************************************************'),\n",
      " ('8684m', '**************************************************'),\n",
      " ('d66cn', '**************************************************'),\n",
      " ('bd3b7', '**************************************************'),\n",
      " ('gnbde', '**************************************************')]\n",
      "Epoch: 20, train_loss=3.266238913576827, valid_loss=3.2760334381690392\n"
     ]
    },
    {
     "name": "stderr",
     "output_type": "stream",
     "text": [
      "100%|██████████| 117/117 [00:07<00:00, 15.80it/s]\n",
      "100%|██████████| 13/13 [00:04<00:00,  2.95it/s]\n"
     ]
    },
    {
     "name": "stdout",
     "output_type": "stream",
     "text": [
      "[('7bwm2', '**************************************************'),\n",
      " ('8684m', '**************************************************'),\n",
      " ('d66cn', '**************************************************'),\n",
      " ('bd3b7', '**************************************************'),\n",
      " ('gnbde', '**************************************************')]\n",
      "Epoch: 21, train_loss=3.264455349017412, valid_loss=3.27598604789147\n"
     ]
    },
    {
     "name": "stderr",
     "output_type": "stream",
     "text": [
      "100%|██████████| 117/117 [00:07<00:00, 15.86it/s]\n",
      "100%|██████████| 13/13 [00:04<00:00,  3.06it/s]\n"
     ]
    },
    {
     "name": "stdout",
     "output_type": "stream",
     "text": [
      "[('7bwm2', '**************************************************'),\n",
      " ('8684m', '**************************************************'),\n",
      " ('d66cn', '**************************************************'),\n",
      " ('bd3b7', '**************************************************'),\n",
      " ('gnbde', '**************************************************')]\n",
      "Epoch: 22, train_loss=3.265620337592231, valid_loss=3.277598784520076\n"
     ]
    },
    {
     "name": "stderr",
     "output_type": "stream",
     "text": [
      "100%|██████████| 117/117 [00:06<00:00, 16.73it/s]\n",
      "100%|██████████| 13/13 [00:04<00:00,  3.05it/s]\n"
     ]
    },
    {
     "name": "stdout",
     "output_type": "stream",
     "text": [
      "[('7bwm2', '**************************************************'),\n",
      " ('8684m', '**************************************************'),\n",
      " ('d66cn', '**************************************************'),\n",
      " ('bd3b7', '**************************************************'),\n",
      " ('gnbde', '**************************************************')]\n",
      "Epoch: 23, train_loss=3.263919873115344, valid_loss=3.267912057729868\n"
     ]
    },
    {
     "name": "stderr",
     "output_type": "stream",
     "text": [
      "100%|██████████| 117/117 [00:07<00:00, 16.15it/s]\n",
      "100%|██████████| 13/13 [00:04<00:00,  3.02it/s]\n"
     ]
    },
    {
     "name": "stdout",
     "output_type": "stream",
     "text": [
      "[('7bwm2', '**************************************************'),\n",
      " ('8684m', '**************************************************'),\n",
      " ('d66cn', '**************************************************'),\n",
      " ('bd3b7', '**************************************************'),\n",
      " ('gnbde', '**************************************************')]\n",
      "Epoch: 24, train_loss=3.2591009873610277, valid_loss=3.2836068593538723\n"
     ]
    },
    {
     "name": "stderr",
     "output_type": "stream",
     "text": [
      "100%|██████████| 117/117 [00:07<00:00, 16.61it/s]\n",
      "100%|██████████| 13/13 [00:04<00:00,  2.93it/s]\n"
     ]
    },
    {
     "name": "stdout",
     "output_type": "stream",
     "text": [
      "[('7bwm2', '**************************************************'),\n",
      " ('8684m', '**************************************************'),\n",
      " ('d66cn', '**************************************************'),\n",
      " ('bd3b7', '**************************************************'),\n",
      " ('gnbde', '**************************************************')]\n",
      "Epoch: 25, train_loss=3.239069855111277, valid_loss=3.2722460490006666\n"
     ]
    },
    {
     "name": "stderr",
     "output_type": "stream",
     "text": [
      "100%|██████████| 117/117 [00:07<00:00, 16.29it/s]\n",
      "100%|██████████| 13/13 [00:04<00:00,  2.92it/s]\n"
     ]
    },
    {
     "name": "stdout",
     "output_type": "stream",
     "text": [
      "[('7bwm2', '**************************************************'),\n",
      " ('8684m', '**************************************************'),\n",
      " ('d66cn', '**************************************************'),\n",
      " ('bd3b7', '**************************************************'),\n",
      " ('gnbde', '***********gg*************************************')]\n",
      "Epoch: 26, train_loss=3.154446149483705, valid_loss=3.035390927241399\n"
     ]
    },
    {
     "name": "stderr",
     "output_type": "stream",
     "text": [
      "100%|██████████| 117/117 [00:07<00:00, 16.20it/s]\n",
      "100%|██████████| 13/13 [00:04<00:00,  2.99it/s]\n"
     ]
    },
    {
     "name": "stdout",
     "output_type": "stream",
     "text": [
      "[('7bwm2', '*************b************************************'),\n",
      " ('8684m', '***************************4**********************'),\n",
      " ('d66cn', '***********4*******4******************************'),\n",
      " ('bd3b7', '********b********b******4*************************'),\n",
      " ('gnbde', '***********p*******b********4*********************')]\n",
      "Epoch: 27, train_loss=2.926036655393421, valid_loss=2.7511814007392297\n"
     ]
    },
    {
     "name": "stderr",
     "output_type": "stream",
     "text": [
      "100%|██████████| 117/117 [00:07<00:00, 15.68it/s]\n",
      "100%|██████████| 13/13 [00:04<00:00,  2.97it/s]\n"
     ]
    },
    {
     "name": "stdout",
     "output_type": "stream",
     "text": [
      "[('7bwm2', '*************f************************************'),\n",
      " ('8684m', '**********************8****4**********************'),\n",
      " ('d66cn', '***********4*******4******************************'),\n",
      " ('bd3b7', '********f********f******f*************************'),\n",
      " ('gnbde', '***********g*******4********4*********************')]\n",
      "Epoch: 28, train_loss=2.593873203310192, valid_loss=2.293275521351741\n"
     ]
    },
    {
     "name": "stderr",
     "output_type": "stream",
     "text": [
      "100%|██████████| 117/117 [00:07<00:00, 14.99it/s]\n",
      "100%|██████████| 13/13 [00:04<00:00,  2.77it/s]\n"
     ]
    },
    {
     "name": "stdout",
     "output_type": "stream",
     "text": [
      "[('7bwm2', '*************f**********************2*************'),\n",
      " ('8684m', '**************6*******8****4**********************'),\n",
      " ('d66cn', '***********4*******6******************************'),\n",
      " ('bd3b7', '********f********f******f*******7*****************'),\n",
      " ('gnbde', '***********g*******f********f*********************')]\n",
      "Epoch: 29, train_loss=2.1858450429052367, valid_loss=1.8579526497767522\n"
     ]
    },
    {
     "name": "stderr",
     "output_type": "stream",
     "text": [
      "100%|██████████| 117/117 [00:07<00:00, 15.38it/s]\n",
      "100%|██████████| 13/13 [00:04<00:00,  2.83it/s]\n"
     ]
    },
    {
     "name": "stdout",
     "output_type": "stream",
     "text": [
      "[('7bwm2', '***********7*b****n*****************2*************'),\n",
      " ('8684m', '***********3**6*******3****4**********************'),\n",
      " ('d66cn', '***********d**6****6******************************'),\n",
      " ('bd3b7', '********b********d***3**b*******7*****************'),\n",
      " ('gnbde', '***********g**n****b********d*********************')]\n",
      "Epoch: 30, train_loss=1.8217925577082186, valid_loss=1.4927511857106135\n"
     ]
    },
    {
     "name": "stderr",
     "output_type": "stream",
     "text": [
      "100%|██████████| 117/117 [00:07<00:00, 15.77it/s]\n",
      "100%|██████████| 13/13 [00:04<00:00,  2.83it/s]\n"
     ]
    },
    {
     "name": "stdout",
     "output_type": "stream",
     "text": [
      "[('7bwm2', '***********7*b****w*****************2*************'),\n",
      " ('8684m', '***********3**6*******3****4**********************'),\n",
      " ('d66cn', '***********d**6****6**********n*******************'),\n",
      " ('bd3b7', '********b********d****3*b*******7*****************'),\n",
      " ('gnbde', '***********g**n****b********d*********************')]\n",
      "Epoch: 31, train_loss=1.489971099755703, valid_loss=1.163160305756789\n"
     ]
    },
    {
     "name": "stderr",
     "output_type": "stream",
     "text": [
      "100%|██████████| 117/117 [00:07<00:00, 15.97it/s]\n",
      "100%|██████████| 13/13 [00:04<00:00,  2.95it/s]\n"
     ]
    },
    {
     "name": "stdout",
     "output_type": "stream",
     "text": [
      "[('7bwm2', '***********7*b****w*****************2*************'),\n",
      " ('8684m', '***********3**6*******3****4**n*******************'),\n",
      " ('d66cn', '***********d**6****6**********n*******************'),\n",
      " ('bd3b7', '********b********d***83*b*******7*****************'),\n",
      " ('gnbde', '***********g**n****b*****c**d*********************')]\n",
      "Epoch: 32, train_loss=1.223989653791118, valid_loss=0.9904229640960693\n"
     ]
    },
    {
     "name": "stderr",
     "output_type": "stream",
     "text": [
      "100%|██████████| 117/117 [00:07<00:00, 15.62it/s]\n",
      "100%|██████████| 13/13 [00:04<00:00,  2.65it/s]\n"
     ]
    },
    {
     "name": "stdout",
     "output_type": "stream",
     "text": [
      "[('7bwm2', '***********7*b****w*****************2*************'),\n",
      " ('8684m', '***********8**6*******3****4**n*******************'),\n",
      " ('d66cn', '***********d**6****6*****x****n*******************'),\n",
      " ('bd3b7', '********b********d****3*b*******7*****************'),\n",
      " ('gnbde', '***********g**n****b********d*********************')]\n",
      "Epoch: 33, train_loss=1.023030421163282, valid_loss=0.8159773716559777\n"
     ]
    },
    {
     "name": "stderr",
     "output_type": "stream",
     "text": [
      "100%|██████████| 117/117 [00:08<00:00, 14.31it/s]\n",
      "100%|██████████| 13/13 [00:05<00:00,  2.55it/s]\n"
     ]
    },
    {
     "name": "stdout",
     "output_type": "stream",
     "text": [
      "[('7bwm2', '***********7*b****w*********n**n****2*************'),\n",
      " ('8684m', '***********3**6*******3****4**n*******************'),\n",
      " ('d66cn', '***********d**6****6*****x****n*******************'),\n",
      " ('bd3b7', '********b********d****3*b*******7*****************'),\n",
      " ('gnbde', '***********g**n****b********d**x******************')]\n",
      "Epoch: 34, train_loss=0.9065090188613305, valid_loss=0.697877824306488\n"
     ]
    },
    {
     "name": "stderr",
     "output_type": "stream",
     "text": [
      "100%|██████████| 117/117 [00:08<00:00, 14.27it/s]\n",
      "100%|██████████| 13/13 [00:05<00:00,  2.56it/s]\n"
     ]
    },
    {
     "name": "stdout",
     "output_type": "stream",
     "text": [
      "[('7bwm2', '***********7*b****w*********n**n****2*************'),\n",
      " ('8684m', '***********3**6*******3****4**n*******************'),\n",
      " ('d66cn', '***********d**6****6*****c****n*******************'),\n",
      " ('bd3b7', '********b********d****3*b*******7*****************'),\n",
      " ('gnbde', '***********g**n****b*****c**d**x******************')]\n",
      "Epoch: 35, train_loss=0.8084794476500943, valid_loss=0.6383447509545547\n"
     ]
    },
    {
     "name": "stderr",
     "output_type": "stream",
     "text": [
      "100%|██████████| 117/117 [00:07<00:00, 14.75it/s]\n",
      "100%|██████████| 13/13 [00:05<00:00,  2.56it/s]\n"
     ]
    },
    {
     "name": "stdout",
     "output_type": "stream",
     "text": [
      "[('7bwm2', '***********7*b****w*****************2*************'),\n",
      " ('8684m', '***********3**6*******3****4**n*******************'),\n",
      " ('d66cn', '***********d**6****6*****c****n*******************'),\n",
      " ('bd3b7', '********b********d****3*b*******7*****************'),\n",
      " ('gnbde', '***********g**n****b*****c**d**x******************')]\n",
      "Epoch: 36, train_loss=0.7226736306125282, valid_loss=0.5908622191502497\n"
     ]
    },
    {
     "name": "stderr",
     "output_type": "stream",
     "text": [
      "100%|██████████| 117/117 [00:08<00:00, 14.47it/s]\n",
      "100%|██████████| 13/13 [00:05<00:00,  2.58it/s]\n"
     ]
    },
    {
     "name": "stdout",
     "output_type": "stream",
     "text": [
      "[('7bwm2', '***********7*b****w************n****2*************'),\n",
      " ('8684m', '***********3**6*******3****4**n*******************'),\n",
      " ('d66cn', '***********d**6****6*****c****n*******************'),\n",
      " ('bd3b7', '********b********d****3*b*******7*****************'),\n",
      " ('gnbde', '***********g**n****b*****c**d**x******************')]\n",
      "Epoch: 37, train_loss=0.6690030834104261, valid_loss=0.5335082365916326\n"
     ]
    },
    {
     "name": "stderr",
     "output_type": "stream",
     "text": [
      "100%|██████████| 117/117 [00:08<00:00, 13.41it/s]\n",
      "100%|██████████| 13/13 [00:05<00:00,  2.55it/s]\n"
     ]
    },
    {
     "name": "stdout",
     "output_type": "stream",
     "text": [
      "[('7bwm2', '***********7*b****w*****************2*************'),\n",
      " ('8684m', '***********8**6*******3****4**n*******************'),\n",
      " ('d66cn', '***********d**6****6*****c****n*******************'),\n",
      " ('bd3b7', '********b********d****8*b*******7*****************'),\n",
      " ('gnbde', '***********g**n****b*****c**d**e******************')]\n",
      "Epoch: 38, train_loss=0.607400558443151, valid_loss=0.49762303554094756\n"
     ]
    },
    {
     "name": "stderr",
     "output_type": "stream",
     "text": [
      "100%|██████████| 117/117 [00:08<00:00, 13.38it/s]\n",
      "100%|██████████| 13/13 [00:05<00:00,  2.55it/s]\n"
     ]
    },
    {
     "name": "stdout",
     "output_type": "stream",
     "text": [
      "[('7bwm2', '***********7*b****w*****************2*************'),\n",
      " ('8684m', '***********3**6*******3****4**n*******************'),\n",
      " ('d66cn', '***********d**6****6*****c****n*******************'),\n",
      " ('bd3b7', '********b********d****3*b*******7*****************'),\n",
      " ('gnbde', '***********g**n****b********d**e******************')]\n",
      "Epoch: 39, train_loss=0.5606437559820648, valid_loss=0.45486377294246966\n"
     ]
    },
    {
     "name": "stderr",
     "output_type": "stream",
     "text": [
      "100%|██████████| 117/117 [00:08<00:00, 13.93it/s]\n",
      "100%|██████████| 13/13 [00:05<00:00,  2.58it/s]\n"
     ]
    },
    {
     "name": "stdout",
     "output_type": "stream",
     "text": [
      "[('7bwm2', '***********7*b****w*****************2*************'),\n",
      " ('8684m', '***********3**6*******3****4**n*******************'),\n",
      " ('d66cn', '***********d**6****6*****c****n*******************'),\n",
      " ('bd3b7', '********b********d****3*b*******7*****************'),\n",
      " ('gnbde', '***********g**n****b*****c**d**e******************')]\n",
      "Epoch: 40, train_loss=0.5193543999623029, valid_loss=0.40961275421656096\n"
     ]
    },
    {
     "name": "stderr",
     "output_type": "stream",
     "text": [
      "100%|██████████| 117/117 [00:08<00:00, 13.87it/s]\n",
      "100%|██████████| 13/13 [00:05<00:00,  2.51it/s]\n"
     ]
    },
    {
     "name": "stdout",
     "output_type": "stream",
     "text": [
      "[('7bwm2', '***********7*b****w******n**********2*************'),\n",
      " ('8684m', '***********3**6*******3****4**n*******************'),\n",
      " ('d66cn', '***********d**6****6*****c****n*******************'),\n",
      " ('bd3b7', '********b********d****3*b*******7*****************'),\n",
      " ('gnbde', '***********g**n****b*****c**d**e******************')]\n",
      "Epoch: 41, train_loss=0.4809156312392308, valid_loss=0.3589257001876831\n"
     ]
    },
    {
     "name": "stderr",
     "output_type": "stream",
     "text": [
      "100%|██████████| 117/117 [00:08<00:00, 14.18it/s]\n",
      "100%|██████████| 13/13 [00:05<00:00,  2.47it/s]\n"
     ]
    },
    {
     "name": "stdout",
     "output_type": "stream",
     "text": [
      "[('7bwm2', '***********7*b****w******n**********2*************'),\n",
      " ('8684m', '***********3**6*******3****4**n*******************'),\n",
      " ('d66cn', '***********d**6****6*****c****n*******************'),\n",
      " ('bd3b7', '********b********d****3*b*******7*****************'),\n",
      " ('gnbde', '***********g**n****b*****c**d**e******************')]\n",
      "Epoch: 42, train_loss=0.4393500070541333, valid_loss=0.32544724070108855\n"
     ]
    },
    {
     "name": "stderr",
     "output_type": "stream",
     "text": [
      "100%|██████████| 117/117 [00:08<00:00, 13.91it/s]\n",
      "100%|██████████| 13/13 [00:05<00:00,  2.47it/s]\n"
     ]
    },
    {
     "name": "stdout",
     "output_type": "stream",
     "text": [
      "[('7bwm2', '***********7*b****w******n**********2*************'),\n",
      " ('8684m', '***********8**6*******3****4**n*******************'),\n",
      " ('d66cn', '***********d**6****6*****c****n*******************'),\n",
      " ('bd3b7', '********b********d****3*b*******7*****************'),\n",
      " ('gnbde', '***********g**n****b*****c**d**e******************')]\n",
      "Epoch: 43, train_loss=0.39938539954332203, valid_loss=0.31612347868772656\n"
     ]
    },
    {
     "name": "stderr",
     "output_type": "stream",
     "text": [
      "100%|██████████| 117/117 [00:08<00:00, 13.19it/s]\n",
      "100%|██████████| 13/13 [00:05<00:00,  2.36it/s]\n"
     ]
    },
    {
     "name": "stdout",
     "output_type": "stream",
     "text": [
      "[('7bwm2', '***********7*b****w******n**********2*************'),\n",
      " ('8684m', '***********3**6*******3****4**n*******************'),\n",
      " ('d66cn', '***********d**6****6*****c****n*******************'),\n",
      " ('bd3b7', '********b********d****3*b*******7*****************'),\n",
      " ('gnbde', '***********g**n****b********d**e******************')]\n",
      "Epoch: 44, train_loss=0.37901038530035913, valid_loss=0.30068803292054397\n"
     ]
    },
    {
     "name": "stderr",
     "output_type": "stream",
     "text": [
      "100%|██████████| 117/117 [00:08<00:00, 13.53it/s]\n",
      "100%|██████████| 13/13 [00:05<00:00,  2.22it/s]\n"
     ]
    },
    {
     "name": "stdout",
     "output_type": "stream",
     "text": [
      "[('7bwm2', '***********7*b****w******n**********2*************'),\n",
      " ('8684m', '***********8**6*******3****4**n*******************'),\n",
      " ('d66cn', '***********d**6****6*****c****n*******************'),\n",
      " ('bd3b7', '********b********d****3*b*******7*****************'),\n",
      " ('gnbde', '***********g**n****b********d**e******************')]\n",
      "Epoch: 45, train_loss=0.35055525626382256, valid_loss=0.27757711479297054\n"
     ]
    },
    {
     "name": "stderr",
     "output_type": "stream",
     "text": [
      "100%|██████████| 117/117 [00:08<00:00, 14.14it/s]\n",
      "100%|██████████| 13/13 [00:05<00:00,  2.39it/s]\n"
     ]
    },
    {
     "name": "stdout",
     "output_type": "stream",
     "text": [
      "[('7bwm2', '***********7*b****w******n**********2*************'),\n",
      " ('8684m', '***********8**6*******3****4**n*******************'),\n",
      " ('d66cn', '***********d**6****6*****c****n*******************'),\n",
      " ('bd3b7', '********b********d****3*b*******7*****************'),\n",
      " ('gnbde', '***********g**n****b*****c**d**e******************')]\n",
      "Epoch: 46, train_loss=0.3216879472263858, valid_loss=0.28566499856802136\n"
     ]
    },
    {
     "name": "stderr",
     "output_type": "stream",
     "text": [
      "100%|██████████| 117/117 [00:07<00:00, 14.79it/s]\n",
      "100%|██████████| 13/13 [00:05<00:00,  2.45it/s]\n"
     ]
    },
    {
     "name": "stdout",
     "output_type": "stream",
     "text": [
      "[('7bwm2', '***********7*b****w******n**********2*************'),\n",
      " ('8684m', '***********8**6*******3****4**n*******************'),\n",
      " ('d66cn', '***********d**6****6*****c****n*******************'),\n",
      " ('bd3b7', '********b********d****3*b*******7*****************'),\n",
      " ('gnbde', '***********g**n****b********d**e******************')]\n",
      "Epoch: 47, train_loss=0.31007468865977394, valid_loss=0.25907195531404936\n"
     ]
    },
    {
     "name": "stderr",
     "output_type": "stream",
     "text": [
      "100%|██████████| 117/117 [00:08<00:00, 13.38it/s]\n",
      "100%|██████████| 13/13 [00:05<00:00,  2.32it/s]\n"
     ]
    },
    {
     "name": "stdout",
     "output_type": "stream",
     "text": [
      "[('7bwm2', '***********7*b****w******n**********2*************'),\n",
      " ('8684m', '***********8**6*******3****4**n*******************'),\n",
      " ('d66cn', '***********d**6****6*****c****n*******************'),\n",
      " ('bd3b7', '********b********d****3*b*******7*****************'),\n",
      " ('gnbde', '***********g**n****b*****c**d**e******************')]\n",
      "Epoch: 48, train_loss=0.29805735600555044, valid_loss=0.2426523990356005\n"
     ]
    },
    {
     "name": "stderr",
     "output_type": "stream",
     "text": [
      "100%|██████████| 117/117 [00:08<00:00, 13.30it/s]\n",
      "100%|██████████| 13/13 [00:06<00:00,  2.03it/s]\n"
     ]
    },
    {
     "name": "stdout",
     "output_type": "stream",
     "text": [
      "[('7bwm2', '***********7*b****w******n**********2*************'),\n",
      " ('8684m', '***********8**6*******3****4**n*******************'),\n",
      " ('d66cn', '***********d**6****6*****c****n*******************'),\n",
      " ('bd3b7', '********b********d****3*b*******7*****************'),\n",
      " ('gnbde', '***********g**n****b*****c**d**e******************')]\n",
      "Epoch: 49, train_loss=0.2821022705135182, valid_loss=0.2445545712342629\n"
     ]
    },
    {
     "name": "stderr",
     "output_type": "stream",
     "text": [
      "100%|██████████| 117/117 [00:09<00:00, 12.82it/s]\n",
      "100%|██████████| 13/13 [00:06<00:00,  2.12it/s]\n"
     ]
    },
    {
     "name": "stdout",
     "output_type": "stream",
     "text": [
      "[('7bwm2', '***********7*b****w******n**********2*************'),\n",
      " ('8684m', '***********8**6*******8****4**n*******************'),\n",
      " ('d66cn', '***********d**6****6*****c****n*******************'),\n",
      " ('bd3b7', '********b********d****3*b*******7*****************'),\n",
      " ('gnbde', '***********g**n****b********d**e******************')]\n",
      "Epoch: 50, train_loss=0.2596674195976339, valid_loss=0.242676521723087\n"
     ]
    },
    {
     "name": "stderr",
     "output_type": "stream",
     "text": [
      "100%|██████████| 117/117 [00:08<00:00, 13.47it/s]\n",
      "100%|██████████| 13/13 [00:06<00:00,  2.16it/s]\n"
     ]
    },
    {
     "name": "stdout",
     "output_type": "stream",
     "text": [
      "[('7bwm2', '***********7*b****w******n**********2*************'),\n",
      " ('8684m', '***********8**6*******3****4**n*******************'),\n",
      " ('d66cn', '***********d**6****6*****c****n*******************'),\n",
      " ('bd3b7', '********b********d****3*b*******7*****************'),\n",
      " ('gnbde', '***********g**n****b*****c**d**e******************')]\n",
      "Epoch: 51, train_loss=0.24502366150800997, valid_loss=0.21310471112911517\n"
     ]
    },
    {
     "name": "stderr",
     "output_type": "stream",
     "text": [
      "100%|██████████| 117/117 [00:08<00:00, 13.31it/s]\n",
      "100%|██████████| 13/13 [00:06<00:00,  2.14it/s]\n"
     ]
    },
    {
     "name": "stdout",
     "output_type": "stream",
     "text": [
      "[('7bwm2', '***********7*b****w******n**********2*************'),\n",
      " ('8684m', '***********8**6*******3****4**n*******************'),\n",
      " ('d66cn', '***********d**6****6*****c****n*******************'),\n",
      " ('bd3b7', '********b********d****3*b*******7*****************'),\n",
      " ('gnbde', '***********g**n****b********d**e******************')]\n",
      "Epoch: 52, train_loss=0.2356537703392852, valid_loss=0.230868317759954\n"
     ]
    },
    {
     "name": "stderr",
     "output_type": "stream",
     "text": [
      "100%|██████████| 117/117 [00:08<00:00, 13.14it/s]\n",
      "100%|██████████| 13/13 [00:06<00:00,  2.05it/s]\n"
     ]
    },
    {
     "name": "stdout",
     "output_type": "stream",
     "text": [
      "[('7bwm2', '***********7*b****w******n**********2*************'),\n",
      " ('8684m', '***********8**6*******3****4**n*******************'),\n",
      " ('d66cn', '***********d**6****6*****c****n*******************'),\n",
      " ('bd3b7', '********b********d****3*b*******7*****************'),\n",
      " ('gnbde', '***********g**n****b********d**e******************')]\n",
      "Epoch: 53, train_loss=0.24692826004873994, valid_loss=0.26662197709083557\n"
     ]
    },
    {
     "name": "stderr",
     "output_type": "stream",
     "text": [
      "100%|██████████| 117/117 [00:07<00:00, 15.65it/s]\n",
      "100%|██████████| 13/13 [00:05<00:00,  2.46it/s]\n"
     ]
    },
    {
     "name": "stdout",
     "output_type": "stream",
     "text": [
      "[('7bwm2', '***********7*b****w******n**********2*************'),\n",
      " ('8684m', '***********8**6*******8****4**n*******************'),\n",
      " ('d66cn', '***********d**6****6*****c****n*******************'),\n",
      " ('bd3b7', '********b********d****3*b*******7*****************'),\n",
      " ('gnbde', '***********g**n****b********d**e******************')]\n",
      "Epoch: 54, train_loss=0.2227824606701859, valid_loss=0.20988135440991476\n"
     ]
    },
    {
     "name": "stderr",
     "output_type": "stream",
     "text": [
      "100%|██████████| 117/117 [00:07<00:00, 15.22it/s]\n",
      "100%|██████████| 13/13 [00:05<00:00,  2.30it/s]\n"
     ]
    },
    {
     "name": "stdout",
     "output_type": "stream",
     "text": [
      "[('7bwm2', '***********7*b****w******n**********2*************'),\n",
      " ('8684m', '***********8**6*******3****4**n*******************'),\n",
      " ('d66cn', '***********d**6****6*****c****n*******************'),\n",
      " ('bd3b7', '********b********d****3*b*******7*****************'),\n",
      " ('gnbde', '***********g**n****b*****c**d**e******************')]\n",
      "Epoch: 55, train_loss=0.20986372678198367, valid_loss=0.20795442393192878\n"
     ]
    },
    {
     "name": "stderr",
     "output_type": "stream",
     "text": [
      "100%|██████████| 117/117 [00:07<00:00, 14.71it/s]\n",
      "100%|██████████| 13/13 [00:05<00:00,  2.44it/s]\n"
     ]
    },
    {
     "name": "stdout",
     "output_type": "stream",
     "text": [
      "[('7bwm2', '***********7*b****w******n**********2*************'),\n",
      " ('8684m', '***********8**6*******8****4**n*******************'),\n",
      " ('d66cn', '***********d**6****6*****c****n*******************'),\n",
      " ('bd3b7', '********b********d****3*b*******7*****************'),\n",
      " ('gnbde', '***********g**n****b*****c**d**e******************')]\n",
      "Epoch: 56, train_loss=0.1965277098182939, valid_loss=0.2301745953468176\n"
     ]
    },
    {
     "name": "stderr",
     "output_type": "stream",
     "text": [
      "100%|██████████| 117/117 [00:08<00:00, 14.09it/s]\n",
      "100%|██████████| 13/13 [00:05<00:00,  2.35it/s]\n"
     ]
    },
    {
     "name": "stdout",
     "output_type": "stream",
     "text": [
      "[('7bwm2', '***********7*b****w******n**********2*************'),\n",
      " ('8684m', '***********8**6*******8****4**n*******************'),\n",
      " ('d66cn', '***********d**6****6*****c****n*******************'),\n",
      " ('bd3b7', '********b********d****3*b*******7*****************'),\n",
      " ('gnbde', '***********g**n****b********d**e******************')]\n",
      "Epoch: 57, train_loss=0.1832100289244937, valid_loss=0.19870748141637215\n"
     ]
    },
    {
     "name": "stderr",
     "output_type": "stream",
     "text": [
      "100%|██████████| 117/117 [00:07<00:00, 15.52it/s]\n",
      "100%|██████████| 13/13 [00:05<00:00,  2.54it/s]\n"
     ]
    },
    {
     "name": "stdout",
     "output_type": "stream",
     "text": [
      "[('7bwm2', '***********7*b****w******n**********2*************'),\n",
      " ('8684m', '***********8**6*******8****4**n*******************'),\n",
      " ('d66cn', '***********d**6****6*****c****n*******************'),\n",
      " ('bd3b7', '********b********d****3*b*******7*****************'),\n",
      " ('gnbde', '***********g**n****b********d**e******************')]\n",
      "Epoch: 58, train_loss=0.17109404838620088, valid_loss=0.20452527243357438\n"
     ]
    },
    {
     "name": "stderr",
     "output_type": "stream",
     "text": [
      "100%|██████████| 117/117 [00:06<00:00, 16.74it/s]\n",
      "100%|██████████| 13/13 [00:05<00:00,  2.50it/s]\n"
     ]
    },
    {
     "name": "stdout",
     "output_type": "stream",
     "text": [
      "[('7bwm2', '***********7*b****w******n**********2*************'),\n",
      " ('8684m', '***********8**6*******8****4**n*******************'),\n",
      " ('d66cn', '***********d**6****6*****c****n*******************'),\n",
      " ('bd3b7', '********b********d****3*b*******7*****************'),\n",
      " ('gnbde', '***********g**n****b********d**e******************')]\n",
      "Epoch: 59, train_loss=0.1734682265509907, valid_loss=0.17933003661724237\n"
     ]
    },
    {
     "name": "stderr",
     "output_type": "stream",
     "text": [
      "100%|██████████| 117/117 [00:06<00:00, 16.74it/s]\n",
      "100%|██████████| 13/13 [00:05<00:00,  2.57it/s]\n"
     ]
    },
    {
     "name": "stdout",
     "output_type": "stream",
     "text": [
      "[('7bwm2', '***********7*b****w******n**********2*************'),\n",
      " ('8684m', '***********8**6*******8****4**n*******************'),\n",
      " ('d66cn', '***********d**6****6*****c****n*******************'),\n",
      " ('bd3b7', '********b********d****3*b*******7*****************'),\n",
      " ('gnbde', '***********g**n****b*****c**d**e******************')]\n",
      "Epoch: 60, train_loss=0.17310643670523268, valid_loss=0.2098648169865975\n"
     ]
    },
    {
     "name": "stderr",
     "output_type": "stream",
     "text": [
      "100%|██████████| 117/117 [00:06<00:00, 16.76it/s]\n",
      "100%|██████████| 13/13 [00:05<00:00,  2.57it/s]\n"
     ]
    },
    {
     "name": "stdout",
     "output_type": "stream",
     "text": [
      "[('7bwm2', '***********7*b****w******n**********2*************'),\n",
      " ('8684m', '***********8**6*******8****4**n*******************'),\n",
      " ('d66cn', '***********d**6****6*****c****n*******************'),\n",
      " ('bd3b7', '********b********d****3*b*******7*****************'),\n",
      " ('gnbde', '***********g**n****b********d**e******************')]\n",
      "Epoch: 61, train_loss=0.16338507576375946, valid_loss=0.2050893260882451\n"
     ]
    },
    {
     "name": "stderr",
     "output_type": "stream",
     "text": [
      "100%|██████████| 117/117 [00:06<00:00, 17.13it/s]\n",
      "100%|██████████| 13/13 [00:05<00:00,  2.57it/s]\n"
     ]
    },
    {
     "name": "stdout",
     "output_type": "stream",
     "text": [
      "[('7bwm2', '***********7*b****w******n**********2*************'),\n",
      " ('8684m', '***********8**6*******8****4**n*******************'),\n",
      " ('d66cn', '***********d**6****6*****c****n*******************'),\n",
      " ('bd3b7', '********b********d****3*b*******7*****************'),\n",
      " ('gnbde', '***********g**n****b*****c**d**e******************')]\n",
      "Epoch: 62, train_loss=0.15425315960987002, valid_loss=0.18485549894663003\n"
     ]
    },
    {
     "name": "stderr",
     "output_type": "stream",
     "text": [
      "100%|██████████| 117/117 [00:06<00:00, 16.98it/s]\n",
      "100%|██████████| 13/13 [00:05<00:00,  2.56it/s]\n"
     ]
    },
    {
     "name": "stdout",
     "output_type": "stream",
     "text": [
      "[('7bwm2', '***********7*b****w******n**********2*************'),\n",
      " ('8684m', '***********8**6*******8****4**n*******************'),\n",
      " ('d66cn', '***********d**6****6*****c****n*******************'),\n",
      " ('bd3b7', '********b********d****3*b*******7*****************'),\n",
      " ('gnbde', '***********g**n****b********d**e******************')]\n",
      "Epoch: 63, train_loss=0.16557399154855654, valid_loss=0.2188821371931296\n"
     ]
    },
    {
     "name": "stderr",
     "output_type": "stream",
     "text": [
      "100%|██████████| 117/117 [00:07<00:00, 16.32it/s]\n",
      "100%|██████████| 13/13 [00:05<00:00,  2.56it/s]\n"
     ]
    },
    {
     "name": "stdout",
     "output_type": "stream",
     "text": [
      "[('7bwm2', '***********7*b****w******n**********2*************'),\n",
      " ('8684m', '***********8**6*******8****4**n*******************'),\n",
      " ('d66cn', '***********d**6****6*****c****n*******************'),\n",
      " ('bd3b7', '********b********d****3*b*******7*****************'),\n",
      " ('gnbde', '***********g**n****b********d**e******************')]\n",
      "Epoch: 64, train_loss=0.14068877540974536, valid_loss=0.18021290863935763\n"
     ]
    },
    {
     "name": "stderr",
     "output_type": "stream",
     "text": [
      "100%|██████████| 117/117 [00:06<00:00, 16.82it/s]\n",
      "100%|██████████| 13/13 [00:05<00:00,  2.49it/s]\n"
     ]
    },
    {
     "name": "stdout",
     "output_type": "stream",
     "text": [
      "[('7bwm2', '***********7*b****w******n**********2*************'),\n",
      " ('8684m', '***********8**6*******8****4**n*******************'),\n",
      " ('d66cn', '***********d**6****6*****c****n*******************'),\n",
      " ('bd3b7', '********b********d****3*b*******7*****************'),\n",
      " ('gnbde', '***********g**n****b********d**e******************')]\n",
      "Epoch: 65, train_loss=0.1349362283308282, valid_loss=0.17715151665302423\n"
     ]
    },
    {
     "name": "stderr",
     "output_type": "stream",
     "text": [
      "100%|██████████| 117/117 [00:06<00:00, 16.78it/s]\n",
      "100%|██████████| 13/13 [00:04<00:00,  2.62it/s]\n"
     ]
    },
    {
     "name": "stdout",
     "output_type": "stream",
     "text": [
      "[('7bwm2', '***********7*b****w******n**********2*************'),\n",
      " ('8684m', '***********8**6*******8****4**n*******************'),\n",
      " ('d66cn', '***********d**6****6*****c****n*******************'),\n",
      " ('bd3b7', '********b********d****3*b*******7*****************'),\n",
      " ('gnbde', '***********g**n****b********d**e******************')]\n",
      "Epoch: 66, train_loss=0.1355399505004414, valid_loss=0.18692152230785444\n"
     ]
    },
    {
     "name": "stderr",
     "output_type": "stream",
     "text": [
      "100%|██████████| 117/117 [00:06<00:00, 16.92it/s]\n",
      "100%|██████████| 13/13 [00:05<00:00,  2.59it/s]\n"
     ]
    },
    {
     "name": "stdout",
     "output_type": "stream",
     "text": [
      "[('7bwm2', '***********7*b****w******n**********2*************'),\n",
      " ('8684m', '***********8**6*******8****4**n*******************'),\n",
      " ('d66cn', '***********d**6****6*****c****n*******************'),\n",
      " ('bd3b7', '********b********d****3*b*******7*****************'),\n",
      " ('gnbde', '***********g**n****b********d**e******************')]\n",
      "Epoch: 67, train_loss=0.13744035684782216, valid_loss=0.19748737491094148\n"
     ]
    },
    {
     "name": "stderr",
     "output_type": "stream",
     "text": [
      "100%|██████████| 117/117 [00:06<00:00, 17.00it/s]\n",
      "100%|██████████| 13/13 [00:04<00:00,  2.64it/s]\n"
     ]
    },
    {
     "name": "stdout",
     "output_type": "stream",
     "text": [
      "[('7bwm2', '***********7*b****w******n**********2*************'),\n",
      " ('8684m', '***********8**6*******8****4**n*******************'),\n",
      " ('d66cn', '***********d**6****6*****c****n*******************'),\n",
      " ('bd3b7', '********b********d****3*b*******7*****************'),\n",
      " ('gnbde', '***********g**n****b********d**e******************')]\n",
      "Epoch: 68, train_loss=0.12999670657241702, valid_loss=0.21880140212865976\n"
     ]
    },
    {
     "name": "stderr",
     "output_type": "stream",
     "text": [
      "100%|██████████| 117/117 [00:06<00:00, 16.92it/s]\n",
      "100%|██████████| 13/13 [00:04<00:00,  2.61it/s]\n"
     ]
    },
    {
     "name": "stdout",
     "output_type": "stream",
     "text": [
      "[('7bwm2', '***********7*b****w******n**********2*************'),\n",
      " ('8684m', '***********8**6*******8****4**n*******************'),\n",
      " ('d66cn', '***********d**6****6*****c****n*******************'),\n",
      " ('bd3b7', '********b********d****3*b*******7*****************'),\n",
      " ('gnbde', '***********g**n****b********d**e******************')]\n",
      "Epoch: 69, train_loss=0.12861422683375004, valid_loss=0.17585152444931176\n"
     ]
    },
    {
     "name": "stderr",
     "output_type": "stream",
     "text": [
      "100%|██████████| 117/117 [00:07<00:00, 16.10it/s]\n",
      "100%|██████████| 13/13 [00:05<00:00,  2.54it/s]\n"
     ]
    },
    {
     "name": "stdout",
     "output_type": "stream",
     "text": [
      "[('7bwm2', '***********7*b****w******n**********2*************'),\n",
      " ('8684m', '***********8**6*******8****4**n*******************'),\n",
      " ('d66cn', '***********d**6****6*****c****n*******************'),\n",
      " ('bd3b7', '********b********d****3*b*******7*****************'),\n",
      " ('gnbde', '***********g**n****b********d**e******************')]\n",
      "Epoch: 70, train_loss=0.1314464119207273, valid_loss=0.19823089327949744\n"
     ]
    },
    {
     "name": "stderr",
     "output_type": "stream",
     "text": [
      "100%|██████████| 117/117 [00:06<00:00, 16.86it/s]\n",
      "100%|██████████| 13/13 [00:05<00:00,  2.51it/s]\n"
     ]
    },
    {
     "name": "stdout",
     "output_type": "stream",
     "text": [
      "[('7bwm2', '***********7*b****w******n**********2*************'),\n",
      " ('8684m', '***********8**6*******8****4**n*******************'),\n",
      " ('d66cn', '***********d**6****6*****c****n*******************'),\n",
      " ('bd3b7', '********b********d****3*b*******7*****************'),\n",
      " ('gnbde', '***********g**n****b********d**e******************')]\n",
      "Epoch: 71, train_loss=0.13084568332434973, valid_loss=0.17582395386237365\n"
     ]
    },
    {
     "name": "stderr",
     "output_type": "stream",
     "text": [
      "100%|██████████| 117/117 [00:06<00:00, 16.90it/s]\n",
      "100%|██████████| 13/13 [00:05<00:00,  2.54it/s]\n"
     ]
    },
    {
     "name": "stdout",
     "output_type": "stream",
     "text": [
      "[('7bwm2', '***********7*b****w******n**********2*************'),\n",
      " ('8684m', '***********8**6*******8****4**n*******************'),\n",
      " ('d66cn', '***********d**6****6*****c****n*******************'),\n",
      " ('bd3b7', '********b********d****3*b*******7*****************'),\n",
      " ('gnbde', '***********g**n****b********d**e******************')]\n",
      "Epoch: 72, train_loss=0.12315242923796177, valid_loss=0.2026675440944158\n"
     ]
    },
    {
     "name": "stderr",
     "output_type": "stream",
     "text": [
      "100%|██████████| 117/117 [00:07<00:00, 16.67it/s]\n",
      "100%|██████████| 13/13 [00:05<00:00,  2.52it/s]\n"
     ]
    },
    {
     "name": "stdout",
     "output_type": "stream",
     "text": [
      "[('7bwm2', '***********7*b****w******n**********2*************'),\n",
      " ('8684m', '***********8**6*******8****4**n*******************'),\n",
      " ('d66cn', '***********d**6****6*****c****n*******************'),\n",
      " ('bd3b7', '********b********d****3*b*******7*****************'),\n",
      " ('gnbde', '***********g**n****b********d**e******************')]\n",
      "Epoch: 73, train_loss=0.12395550996765621, valid_loss=0.17505046209463707\n"
     ]
    },
    {
     "name": "stderr",
     "output_type": "stream",
     "text": [
      "100%|██████████| 117/117 [00:06<00:00, 16.73it/s]\n",
      "100%|██████████| 13/13 [00:05<00:00,  2.59it/s]\n"
     ]
    },
    {
     "name": "stdout",
     "output_type": "stream",
     "text": [
      "[('7bwm2', '***********7*b****w******n**********2*************'),\n",
      " ('8684m', '***********8**6************4**n*******************'),\n",
      " ('d66cn', '***********d**6****6*****c****n*******************'),\n",
      " ('bd3b7', '********b********d****3*b*******7*****************'),\n",
      " ('gnbde', '***********g**n****b********d**e******************')]\n",
      "Epoch: 74, train_loss=0.12323249917891291, valid_loss=0.21142436277407867\n"
     ]
    },
    {
     "name": "stderr",
     "output_type": "stream",
     "text": [
      "100%|██████████| 117/117 [00:06<00:00, 16.89it/s]\n",
      "100%|██████████| 13/13 [00:05<00:00,  2.56it/s]\n"
     ]
    },
    {
     "name": "stdout",
     "output_type": "stream",
     "text": [
      "[('7bwm2', '***********7*b****w******n**********2*************'),\n",
      " ('8684m', '***********8**6*******8****4**n*******************'),\n",
      " ('d66cn', '***********d**6****6*****c****n*******************'),\n",
      " ('bd3b7', '********b********d****3*b*******7*****************'),\n",
      " ('gnbde', '***********g**n****b********d**e******************')]\n",
      "Epoch: 75, train_loss=0.11203913082583593, valid_loss=0.18163143284618855\n"
     ]
    },
    {
     "name": "stderr",
     "output_type": "stream",
     "text": [
      "100%|██████████| 117/117 [00:06<00:00, 16.96it/s]\n",
      "100%|██████████| 13/13 [00:04<00:00,  2.63it/s]\n"
     ]
    },
    {
     "name": "stdout",
     "output_type": "stream",
     "text": [
      "[('7bwm2', '***********7*b****w******n**********2*************'),\n",
      " ('8684m', '***********8**6*******8****4**n*******************'),\n",
      " ('d66cn', '***********d**6****6*****c****n*******************'),\n",
      " ('bd3b7', '********b********d****3*b*******7*****************'),\n",
      " ('gnbde', '***********g**n****b********d**e******************')]\n",
      "Epoch: 76, train_loss=0.11805893710026374, valid_loss=0.19836837884325248\n"
     ]
    },
    {
     "name": "stderr",
     "output_type": "stream",
     "text": [
      "100%|██████████| 117/117 [00:06<00:00, 16.94it/s]\n",
      "100%|██████████| 13/13 [00:04<00:00,  2.64it/s]\n"
     ]
    },
    {
     "name": "stdout",
     "output_type": "stream",
     "text": [
      "[('7bwm2', '***********7*b****w******n**********2*************'),\n",
      " ('8684m', '***********8**6*******8****4**n*******************'),\n",
      " ('d66cn', '***********d**6****6*****c****n*******************'),\n",
      " ('bd3b7', '********b********d****3*b*******7*****************'),\n",
      " ('gnbde', '***********g**n****b********d**e******************')]\n",
      "Epoch: 77, train_loss=0.11830172366184047, valid_loss=0.22162662389186713\n"
     ]
    },
    {
     "name": "stderr",
     "output_type": "stream",
     "text": [
      "100%|██████████| 117/117 [00:06<00:00, 16.78it/s]\n",
      "100%|██████████| 13/13 [00:05<00:00,  2.58it/s]\n"
     ]
    },
    {
     "name": "stdout",
     "output_type": "stream",
     "text": [
      "[('7bwm2', '***********7*b****w******n**********2*************'),\n",
      " ('8684m', '***********8**6*******8****4**n*******************'),\n",
      " ('d66cn', '***********d**6****6*****c****n*******************'),\n",
      " ('bd3b7', '********b********d****3*b*******7*****************'),\n",
      " ('gnbde', '***********g**n****b********d**e******************')]\n",
      "Epoch: 78, train_loss=0.11796330844458097, valid_loss=0.19175907439337328\n"
     ]
    },
    {
     "name": "stderr",
     "output_type": "stream",
     "text": [
      "100%|██████████| 117/117 [00:06<00:00, 17.04it/s]\n",
      "100%|██████████| 13/13 [00:04<00:00,  2.66it/s]\n"
     ]
    },
    {
     "name": "stdout",
     "output_type": "stream",
     "text": [
      "[('7bwm2', '***********7*b****w******n**********2*************'),\n",
      " ('8684m', '***********8**6*******8****4**n*******************'),\n",
      " ('d66cn', '***********d**6****6*****c****n*******************'),\n",
      " ('bd3b7', '********b********d****3*b*******7*****************'),\n",
      " ('gnbde', '***********g**n****b********d**e******************')]\n",
      "Epoch: 79, train_loss=0.10832343473393694, valid_loss=0.17408170780310264\n"
     ]
    },
    {
     "name": "stderr",
     "output_type": "stream",
     "text": [
      "100%|██████████| 117/117 [00:07<00:00, 16.43it/s]\n",
      "100%|██████████| 13/13 [00:05<00:00,  2.54it/s]\n"
     ]
    },
    {
     "name": "stdout",
     "output_type": "stream",
     "text": [
      "[('7bwm2', '***********7*b****w******n**********2*************'),\n",
      " ('8684m', '***********8**6*******8****4**n*******************'),\n",
      " ('d66cn', '***********d**6****6*****c****n*******************'),\n",
      " ('bd3b7', '********b********d****3*b*******7*****************'),\n",
      " ('gnbde', '***********g**n****b********d**e******************')]\n",
      "Epoch: 80, train_loss=0.101551962363669, valid_loss=0.16624601299946123\n"
     ]
    },
    {
     "name": "stderr",
     "output_type": "stream",
     "text": [
      "100%|██████████| 117/117 [00:06<00:00, 16.81it/s]\n",
      "100%|██████████| 13/13 [00:05<00:00,  2.56it/s]\n"
     ]
    },
    {
     "name": "stdout",
     "output_type": "stream",
     "text": [
      "[('7bwm2', '***********7*b****w******n**********2*************'),\n",
      " ('8684m', '***********8**6*******8****4**n*******************'),\n",
      " ('d66cn', '***********d**6****6*****c****n*******************'),\n",
      " ('bd3b7', '********b********d****3*b*******7*****************'),\n",
      " ('gnbde', '***********g**n****b********d**e******************')]\n",
      "Epoch: 81, train_loss=0.10178085933956835, valid_loss=0.1866661628278402\n"
     ]
    },
    {
     "name": "stderr",
     "output_type": "stream",
     "text": [
      "100%|██████████| 117/117 [00:06<00:00, 16.88it/s]\n",
      "100%|██████████| 13/13 [00:04<00:00,  2.61it/s]\n"
     ]
    },
    {
     "name": "stdout",
     "output_type": "stream",
     "text": [
      "[('7bwm2', '***********7*b****w******n**********2*************'),\n",
      " ('8684m', '***********8**6*******8****4**n*******************'),\n",
      " ('d66cn', '***********d**6****6*****c****n*******************'),\n",
      " ('bd3b7', '********b********d****3*b*******7*****************'),\n",
      " ('gnbde', '***********g**n****b********d**e******************')]\n",
      "Epoch: 82, train_loss=0.09585532347042845, valid_loss=0.16823162181446186\n"
     ]
    },
    {
     "name": "stderr",
     "output_type": "stream",
     "text": [
      "100%|██████████| 117/117 [00:07<00:00, 16.48it/s]\n",
      "100%|██████████| 13/13 [00:05<00:00,  2.54it/s]\n"
     ]
    },
    {
     "name": "stdout",
     "output_type": "stream",
     "text": [
      "[('7bwm2', '***********7*b****w******n**********2*************'),\n",
      " ('8684m', '***********8**6*******8****4**n*******************'),\n",
      " ('d66cn', '***********d**6****6*****c****n*******************'),\n",
      " ('bd3b7', '********b********d****3*b*******7*****************'),\n",
      " ('gnbde', '***********g**n****b********d**e******************')]\n",
      "Epoch: 83, train_loss=0.10004645401341283, valid_loss=0.19413180420031914\n"
     ]
    },
    {
     "name": "stderr",
     "output_type": "stream",
     "text": [
      "100%|██████████| 117/117 [00:07<00:00, 16.71it/s]\n",
      "100%|██████████| 13/13 [00:05<00:00,  2.53it/s]\n"
     ]
    },
    {
     "name": "stdout",
     "output_type": "stream",
     "text": [
      "[('7bwm2', '***********7*b****w******n**********2*************'),\n",
      " ('8684m', '***********8**6*******8****4**n*******************'),\n",
      " ('d66cn', '***********d**6****6*****c****n*******************'),\n",
      " ('bd3b7', '********b********d****3*b*******7*****************'),\n",
      " ('gnbde', '***********g**n****b********d**e******************')]\n",
      "Epoch: 84, train_loss=0.09707070731072344, valid_loss=0.1769408295647456\n"
     ]
    },
    {
     "name": "stderr",
     "output_type": "stream",
     "text": [
      "100%|██████████| 117/117 [00:06<00:00, 17.04it/s]\n",
      "100%|██████████| 13/13 [00:05<00:00,  2.52it/s]\n"
     ]
    },
    {
     "name": "stdout",
     "output_type": "stream",
     "text": [
      "[('7bwm2', '***********7*b****w******n**********2*************'),\n",
      " ('8684m', '***********8**6*******8****4**n*******************'),\n",
      " ('d66cn', '***********d**6****6*****c****n*******************'),\n",
      " ('bd3b7', '********b********d****3*b*******7*****************'),\n",
      " ('gnbde', '***********g**n****b********d**e******************')]\n",
      "Epoch: 85, train_loss=0.1022482316972863, valid_loss=0.17858910102110642\n"
     ]
    },
    {
     "name": "stderr",
     "output_type": "stream",
     "text": [
      "100%|██████████| 117/117 [00:06<00:00, 16.78it/s]\n",
      "100%|██████████| 13/13 [00:05<00:00,  2.57it/s]\n"
     ]
    },
    {
     "name": "stdout",
     "output_type": "stream",
     "text": [
      "[('7bwm2', '***********7*b****w******n**********2*************'),\n",
      " ('8684m', '***********8**6*******8****4**n*******************'),\n",
      " ('d66cn', '********c**d**6****6*****c****n*******************'),\n",
      " ('bd3b7', '********b********d****3*b*******7*****************'),\n",
      " ('gnbde', '***********g**n****b*****c**d**e******************')]\n",
      "Epoch: 86, train_loss=0.11555678083792202, valid_loss=0.26050109989368\n"
     ]
    },
    {
     "name": "stderr",
     "output_type": "stream",
     "text": [
      "100%|██████████| 117/117 [00:06<00:00, 16.91it/s]\n",
      "100%|██████████| 13/13 [00:04<00:00,  2.60it/s]\n"
     ]
    },
    {
     "name": "stdout",
     "output_type": "stream",
     "text": [
      "[('7bwm2', '***********7*b****w******n**********2*************'),\n",
      " ('8684m', '***********88*6*******8****4**n*******************'),\n",
      " ('d66cn', '***********d**6****6*****c****n*******************'),\n",
      " ('bd3b7', '********b********d****3*b*******7*****************'),\n",
      " ('gnbde', '***********g**n****b********d**e******************')]\n",
      "Epoch: 87, train_loss=0.10667191612987946, valid_loss=0.2137989181165512\n"
     ]
    },
    {
     "name": "stderr",
     "output_type": "stream",
     "text": [
      "100%|██████████| 117/117 [00:06<00:00, 16.77it/s]\n",
      "100%|██████████| 13/13 [00:05<00:00,  2.53it/s]\n"
     ]
    },
    {
     "name": "stdout",
     "output_type": "stream",
     "text": [
      "[('7bwm2', '***********7*b****w******n**********2*************'),\n",
      " ('8684m', '***********8**6*******8****4**n*******************'),\n",
      " ('d66cn', '***********d**6****6*****c****n*******************'),\n",
      " ('bd3b7', '********b********d****3*b*******7*****************'),\n",
      " ('gnbde', '***********g**n****b********d**e******************')]\n",
      "Epoch: 88, train_loss=0.10855928925463022, valid_loss=0.2327157104244599\n"
     ]
    },
    {
     "name": "stderr",
     "output_type": "stream",
     "text": [
      "100%|██████████| 117/117 [00:07<00:00, 16.29it/s]\n",
      "100%|██████████| 13/13 [00:05<00:00,  2.57it/s]\n"
     ]
    },
    {
     "name": "stdout",
     "output_type": "stream",
     "text": [
      "[('7bwm2', '***********7*b****w******n**********2*************'),\n",
      " ('8684m', '***********8**6*******8****4**n*******************'),\n",
      " ('d66cn', '***********d**6****6*****c****n*******************'),\n",
      " ('bd3b7', '********b********d****3*b*******7*****************'),\n",
      " ('gnbde', '***********g**n****b********d**e******************')]\n",
      "Epoch: 89, train_loss=0.11398679345973536, valid_loss=0.20670544671324584\n"
     ]
    },
    {
     "name": "stderr",
     "output_type": "stream",
     "text": [
      "100%|██████████| 117/117 [00:06<00:00, 16.81it/s]\n",
      "100%|██████████| 13/13 [00:05<00:00,  2.53it/s]\n"
     ]
    },
    {
     "name": "stdout",
     "output_type": "stream",
     "text": [
      "[('7bwm2', '***********7*b****w******n**********2*************'),\n",
      " ('8684m', '***********8**6*******8****4**n*******************'),\n",
      " ('d66cn', '***********d**6****6*****c****n*******************'),\n",
      " ('bd3b7', '********b********d****3*b*******7*****************'),\n",
      " ('gnbde', '***********g**n****b*****c**d**e******************')]\n",
      "Epoch: 90, train_loss=0.10170641710233484, valid_loss=0.23889450041147378\n"
     ]
    },
    {
     "name": "stderr",
     "output_type": "stream",
     "text": [
      "100%|██████████| 117/117 [00:07<00:00, 16.52it/s]\n",
      "100%|██████████| 13/13 [00:05<00:00,  2.53it/s]\n"
     ]
    },
    {
     "name": "stdout",
     "output_type": "stream",
     "text": [
      "[('7bwm2', '***********7*b****w******n**********2*************'),\n",
      " ('8684m', '***********8**6*******8****4**n*******************'),\n",
      " ('d66cn', '***********d**6****6*****c****n*******************'),\n",
      " ('bd3b7', '********b********d***33*b*******7*****************'),\n",
      " ('gnbde', '***********g**n****b********d**e******************')]\n",
      "Epoch: 91, train_loss=0.09907849121870649, valid_loss=0.21382796950638294\n"
     ]
    },
    {
     "name": "stderr",
     "output_type": "stream",
     "text": [
      "100%|██████████| 117/117 [00:06<00:00, 17.23it/s]\n",
      "100%|██████████| 13/13 [00:05<00:00,  2.56it/s]\n"
     ]
    },
    {
     "name": "stdout",
     "output_type": "stream",
     "text": [
      "[('7bwm2', '***********7*b****w******n**********2*************'),\n",
      " ('8684m', '***********8**6*******8****4**n*******************'),\n",
      " ('d66cn', '***********d**6****6*****c****n*******************'),\n",
      " ('bd3b7', '********b********d****3*b*******7*****************'),\n",
      " ('gnbde', '***********g**n****b********d**e******************')]\n",
      "Epoch: 92, train_loss=0.08849251413574585, valid_loss=0.1960028656400167\n"
     ]
    },
    {
     "name": "stderr",
     "output_type": "stream",
     "text": [
      "100%|██████████| 117/117 [00:06<00:00, 16.89it/s]\n",
      "100%|██████████| 13/13 [00:04<00:00,  2.60it/s]\n"
     ]
    },
    {
     "name": "stdout",
     "output_type": "stream",
     "text": [
      "[('7bwm2', '***********7*b****w******n**********2*************'),\n",
      " ('8684m', '***********8**6*******8****4**n*******************'),\n",
      " ('d66cn', '***********d**6****6*****c****n*******************'),\n",
      " ('bd3b7', '********b********d****3*b*******7*****************'),\n",
      " ('gnbde', '***********g**n****b********d**e******************')]\n",
      "Epoch: 93, train_loss=0.09063050182711364, valid_loss=0.2111653874699886\n"
     ]
    },
    {
     "name": "stderr",
     "output_type": "stream",
     "text": [
      "100%|██████████| 117/117 [00:06<00:00, 17.03it/s]\n",
      "100%|██████████| 13/13 [00:04<00:00,  2.60it/s]\n"
     ]
    },
    {
     "name": "stdout",
     "output_type": "stream",
     "text": [
      "[('7bwm2', '***********7*b****w******n**********2*************'),\n",
      " ('8684m', '***********8**6*******8****4**n*******************'),\n",
      " ('d66cn', '***********d**6****6*****c****n*******************'),\n",
      " ('bd3b7', '********b********d****3*b*******7*****************'),\n",
      " ('gnbde', '***********g**n****b********d**e******************')]\n",
      "Epoch: 94, train_loss=0.10599999195044367, valid_loss=0.1919225650624587\n"
     ]
    },
    {
     "name": "stderr",
     "output_type": "stream",
     "text": [
      "100%|██████████| 117/117 [00:06<00:00, 16.84it/s]\n",
      "100%|██████████| 13/13 [00:04<00:00,  2.63it/s]\n"
     ]
    },
    {
     "name": "stdout",
     "output_type": "stream",
     "text": [
      "[('7bwm2', '***********7*b****w******n**********2*************'),\n",
      " ('8684m', '***********8**6*******8****4**n*******************'),\n",
      " ('d66cn', '***********d**6****6*****c****n*******************'),\n",
      " ('bd3b7', '********b********d****3*b*******7*****************'),\n",
      " ('gnbde', '***********g**n****b********d**e******************')]\n",
      "Epoch: 95, train_loss=0.08285027990738551, valid_loss=0.19341154425190046\n"
     ]
    },
    {
     "name": "stderr",
     "output_type": "stream",
     "text": [
      "100%|██████████| 117/117 [00:06<00:00, 16.74it/s]\n",
      "100%|██████████| 13/13 [00:04<00:00,  2.61it/s]\n"
     ]
    },
    {
     "name": "stdout",
     "output_type": "stream",
     "text": [
      "[('7bwm2', '***********7*b****w******n**********2*************'),\n",
      " ('8684m', '***********8**6*******8****4**n*******************'),\n",
      " ('d66cn', '***********d**6****6*****c****n*******************'),\n",
      " ('bd3b7', '********b********d****3*b*******7*****************'),\n",
      " ('gnbde', '***********g**n****b********d**e******************')]\n",
      "Epoch: 96, train_loss=0.09030581108079506, valid_loss=0.15368670776772958\n"
     ]
    },
    {
     "name": "stderr",
     "output_type": "stream",
     "text": [
      "100%|██████████| 117/117 [00:07<00:00, 16.62it/s]\n",
      "100%|██████████| 13/13 [00:05<00:00,  2.53it/s]\n"
     ]
    },
    {
     "name": "stdout",
     "output_type": "stream",
     "text": [
      "[('7bwm2', '***********7*b****w******n**********2*************'),\n",
      " ('8684m', '***********8**6*******8****4**n*******************'),\n",
      " ('d66cn', '***********d**6****6*****c****n*******************'),\n",
      " ('bd3b7', '********b********d****3*b*******7*****************'),\n",
      " ('gnbde', '***********g**n****b********d**e******************')]\n",
      "Epoch: 97, train_loss=0.08975107732236895, valid_loss=0.18117483877218687\n"
     ]
    },
    {
     "name": "stderr",
     "output_type": "stream",
     "text": [
      "100%|██████████| 117/117 [00:07<00:00, 16.09it/s]\n",
      "100%|██████████| 13/13 [00:05<00:00,  2.57it/s]\n"
     ]
    },
    {
     "name": "stdout",
     "output_type": "stream",
     "text": [
      "[('7bwm2', '***********7*b****w******n**********2*************'),\n",
      " ('8684m', '***********8**6*******8****4**n*******************'),\n",
      " ('d66cn', '***********d**6****6*****c****n*******************'),\n",
      " ('bd3b7', '********b********d****3*b*******7*****************'),\n",
      " ('gnbde', '***********g**n****b********d**e******************')]\n",
      "Epoch: 98, train_loss=0.09214889272474326, valid_loss=0.21459520550874564\n"
     ]
    },
    {
     "name": "stderr",
     "output_type": "stream",
     "text": [
      "100%|██████████| 117/117 [00:07<00:00, 16.69it/s]\n",
      "100%|██████████| 13/13 [00:05<00:00,  2.46it/s]\n"
     ]
    },
    {
     "name": "stdout",
     "output_type": "stream",
     "text": [
      "[('7bwm2', '***********7*b****w******n**********2*************'),\n",
      " ('8684m', '***********8**6*******8****4**n*******************'),\n",
      " ('d66cn', '***********d**6****6*****c****n*******************'),\n",
      " ('bd3b7', '********b********d****3*b*******7*****************'),\n",
      " ('gnbde', '***********g**n****b********d**e******************')]\n",
      "Epoch: 99, train_loss=0.09028868432928863, valid_loss=0.18186496606526467\n"
     ]
    },
    {
     "name": "stderr",
     "output_type": "stream",
     "text": [
      "100%|██████████| 117/117 [00:06<00:00, 17.03it/s]\n",
      "100%|██████████| 13/13 [00:05<00:00,  2.59it/s]\n"
     ]
    },
    {
     "name": "stdout",
     "output_type": "stream",
     "text": [
      "[('7bwm2', '***********7*b****w******n**m*******2*************'),\n",
      " ('8684m', '***********8**6*******8****4**n*******************'),\n",
      " ('d66cn', '***********d**6****6*****c****n*******************'),\n",
      " ('bd3b7', '********b********d****3*b*******7*****************'),\n",
      " ('gnbde', '***********g**n****b********d**e******************')]\n",
      "Epoch: 100, train_loss=0.09202611839605702, valid_loss=0.18164838793186042\n"
     ]
    },
    {
     "name": "stderr",
     "output_type": "stream",
     "text": [
      "100%|██████████| 117/117 [00:06<00:00, 16.86it/s]\n",
      "100%|██████████| 13/13 [00:04<00:00,  2.61it/s]\n"
     ]
    },
    {
     "name": "stdout",
     "output_type": "stream",
     "text": [
      "[('7bwm2', '***********7*b****w******n**********2*************'),\n",
      " ('8684m', '***********8**6*******8****4**n*******************'),\n",
      " ('d66cn', '***********d**6****6*****c****n*******************'),\n",
      " ('bd3b7', '********b********d****3*b*******7*****************'),\n",
      " ('gnbde', '***********g**n****b********d**e******************')]\n",
      "Epoch: 101, train_loss=0.1079065634463078, valid_loss=0.19718381977425173\n"
     ]
    },
    {
     "name": "stderr",
     "output_type": "stream",
     "text": [
      "100%|██████████| 117/117 [00:06<00:00, 17.24it/s]\n",
      "100%|██████████| 13/13 [00:04<00:00,  2.63it/s]\n"
     ]
    },
    {
     "name": "stdout",
     "output_type": "stream",
     "text": [
      "[('7bwm2', '***********7*b****w******n**********2*************'),\n",
      " ('8684m', '***********8**6*******8****4**n*******************'),\n",
      " ('d66cn', '***********d**6****6*****c****n*******************'),\n",
      " ('bd3b7', '********b********d****3*b*******7*****************'),\n",
      " ('gnbde', '***********g**n****b********d**e******************')]\n",
      "Epoch: 102, train_loss=0.0875278046577532, valid_loss=0.24830058575249636\n"
     ]
    },
    {
     "name": "stderr",
     "output_type": "stream",
     "text": [
      "100%|██████████| 117/117 [00:06<00:00, 16.89it/s]\n",
      "100%|██████████| 13/13 [00:05<00:00,  2.49it/s]\n"
     ]
    },
    {
     "name": "stdout",
     "output_type": "stream",
     "text": [
      "[('7bwm2', '***********7*b****w******n**********2*************'),\n",
      " ('8684m', '***********8**6*******8****4**n*******************'),\n",
      " ('d66cn', '***********d**6****6*****c****n*******************'),\n",
      " ('bd3b7', '********b********d****3*b*******7*****************'),\n",
      " ('gnbde', '***********g**n****b********d**e******************')]\n",
      "Epoch: 103, train_loss=0.09965533732922159, valid_loss=0.2041615554346488\n"
     ]
    },
    {
     "name": "stderr",
     "output_type": "stream",
     "text": [
      "100%|██████████| 117/117 [00:06<00:00, 17.11it/s]\n",
      "100%|██████████| 13/13 [00:05<00:00,  2.47it/s]\n"
     ]
    },
    {
     "name": "stdout",
     "output_type": "stream",
     "text": [
      "[('7bwm2', '***********7*b****w******n**********2*************'),\n",
      " ('8684m', '***********8**6*******8****4**n*******************'),\n",
      " ('d66cn', '***********d**6****6*****c****n*******************'),\n",
      " ('bd3b7', '********b********d****3*b*******7*****************'),\n",
      " ('gnbde', '***********g**n****b********d**e******************')]\n",
      "Epoch: 104, train_loss=0.0795536481608183, valid_loss=0.202167712796766\n"
     ]
    },
    {
     "name": "stderr",
     "output_type": "stream",
     "text": [
      "100%|██████████| 117/117 [00:07<00:00, 16.48it/s]\n",
      "100%|██████████| 13/13 [00:05<00:00,  2.58it/s]\n"
     ]
    },
    {
     "name": "stdout",
     "output_type": "stream",
     "text": [
      "[('7bwm2', '***********7*b****w******n**********2*************'),\n",
      " ('8684m', '***********8**6*******8****4**n*******************'),\n",
      " ('d66cn', '***********d**6****6*****c****n*******************'),\n",
      " ('bd3b7', '********b********d****3*b*******7*****************'),\n",
      " ('gnbde', '***********g**n****b********d**e******************')]\n",
      "Epoch: 105, train_loss=0.0760639407313787, valid_loss=0.2042863555610753\n"
     ]
    },
    {
     "name": "stderr",
     "output_type": "stream",
     "text": [
      "100%|██████████| 117/117 [00:06<00:00, 16.91it/s]\n",
      "100%|██████████| 13/13 [00:04<00:00,  2.63it/s]\n"
     ]
    },
    {
     "name": "stdout",
     "output_type": "stream",
     "text": [
      "[('7bwm2', '***********7*b****w******n**********2*************'),\n",
      " ('8684m', '***********8**6*******8****4**n*******************'),\n",
      " ('d66cn', '***********d**6****6*****c****n*******************'),\n",
      " ('bd3b7', '********b********d****3*b*******7*****************'),\n",
      " ('gnbde', '***********g**n****b********d**e******************')]\n",
      "Epoch: 106, train_loss=0.07743503681869589, valid_loss=0.18921716296328947\n"
     ]
    },
    {
     "name": "stderr",
     "output_type": "stream",
     "text": [
      "100%|██████████| 117/117 [00:06<00:00, 17.12it/s]\n",
      "100%|██████████| 13/13 [00:05<00:00,  2.58it/s]\n"
     ]
    },
    {
     "name": "stdout",
     "output_type": "stream",
     "text": [
      "[('7bwm2', '***********7*b****w******n**********2*************'),\n",
      " ('8684m', '***********8**6*******8****4**n*******************'),\n",
      " ('d66cn', '***********d**6****6*****c****n*******************'),\n",
      " ('bd3b7', '********b********d****3*b*******7*****************'),\n",
      " ('gnbde', '***********g**n****b********d**e******************')]\n",
      "Epoch: 107, train_loss=0.07560603638601482, valid_loss=0.1811376280652789\n"
     ]
    },
    {
     "name": "stderr",
     "output_type": "stream",
     "text": [
      "100%|██████████| 117/117 [00:06<00:00, 17.00it/s]\n",
      "100%|██████████| 13/13 [00:04<00:00,  2.63it/s]\n"
     ]
    },
    {
     "name": "stdout",
     "output_type": "stream",
     "text": [
      "[('7bwm2', '***********7*b****w******n**********2*************'),\n",
      " ('8684m', '***********8**6*******8****4**n*******************'),\n",
      " ('d66cn', '***********d**6****6*****c****n*******************'),\n",
      " ('bd3b7', '********b********d****3*b*******7*****************'),\n",
      " ('gnbde', '***********g**n****b********d**e******************')]\n",
      "Epoch: 108, train_loss=0.08437862900348428, valid_loss=0.1954644752594714\n"
     ]
    },
    {
     "name": "stderr",
     "output_type": "stream",
     "text": [
      "100%|██████████| 117/117 [00:06<00:00, 17.16it/s]\n",
      "100%|██████████| 13/13 [00:05<00:00,  2.57it/s]\n"
     ]
    },
    {
     "name": "stdout",
     "output_type": "stream",
     "text": [
      "[('7bwm2', '***********7*b****w******n**********2*************'),\n",
      " ('8684m', '***********8**6*******8****4**n*******************'),\n",
      " ('d66cn', '***********d**6****6*****c****n*******************'),\n",
      " ('bd3b7', '********b********d****3*b*******7*****************'),\n",
      " ('gnbde', '***********g**n****b********d**e******************')]\n",
      "Epoch: 109, train_loss=0.07605765511592229, valid_loss=0.23905476010762727\n"
     ]
    },
    {
     "name": "stderr",
     "output_type": "stream",
     "text": [
      "100%|██████████| 117/117 [00:06<00:00, 17.29it/s]\n",
      "100%|██████████| 13/13 [00:05<00:00,  2.57it/s]\n"
     ]
    },
    {
     "name": "stdout",
     "output_type": "stream",
     "text": [
      "[('7bwm2', '***********7*b****w******n**********2*************'),\n",
      " ('8684m', '***********8**6*******8****4**n*******************'),\n",
      " ('d66cn', '***********d**6****6*****c****n*******************'),\n",
      " ('bd3b7', '********b********d****3*b*******7*****************'),\n",
      " ('gnbde', '***********g**n****b********d**e******************')]\n",
      "Epoch: 110, train_loss=0.0851583583957046, valid_loss=0.2271089701411816\n"
     ]
    },
    {
     "name": "stderr",
     "output_type": "stream",
     "text": [
      "100%|██████████| 117/117 [00:06<00:00, 17.16it/s]\n",
      "100%|██████████| 13/13 [00:05<00:00,  2.56it/s]\n"
     ]
    },
    {
     "name": "stdout",
     "output_type": "stream",
     "text": [
      "[('7bwm2', '***********7*b****w******n**********2*************'),\n",
      " ('8684m', '***********8**6*******8****4**n*******************'),\n",
      " ('d66cn', '***********d**6****6*****c****n*******************'),\n",
      " ('bd3b7', '********b********d****3*b*******7*****************'),\n",
      " ('gnbde', '***********g**n****b********d**e******************')]\n",
      "Epoch: 111, train_loss=0.08158445858165748, valid_loss=0.18733003069288456\n"
     ]
    },
    {
     "name": "stderr",
     "output_type": "stream",
     "text": [
      "100%|██████████| 117/117 [00:06<00:00, 17.03it/s]\n",
      "100%|██████████| 13/13 [00:04<00:00,  2.62it/s]\n"
     ]
    },
    {
     "name": "stdout",
     "output_type": "stream",
     "text": [
      "[('7bwm2', '***********7*b****w******n**********2*************'),\n",
      " ('8684m', '***********8**6*******8****4**n*******************'),\n",
      " ('d66cn', '***********d**6****6*****c****n*******************'),\n",
      " ('bd3b7', '********b********d****3*b*******7*****************'),\n",
      " ('gnbde', '***********g**n****b********d**e******************')]\n",
      "Epoch: 112, train_loss=0.07185452226867788, valid_loss=0.21753494563297585\n"
     ]
    },
    {
     "name": "stderr",
     "output_type": "stream",
     "text": [
      "100%|██████████| 117/117 [00:06<00:00, 16.75it/s]\n",
      "100%|██████████| 13/13 [00:04<00:00,  2.64it/s]\n"
     ]
    },
    {
     "name": "stdout",
     "output_type": "stream",
     "text": [
      "[('7bwm2', '***********7*b****w******n**********2*************'),\n",
      " ('8684m', '***********8**6*******8****4**n*******************'),\n",
      " ('d66cn', '***********d**6****6*****c****n*******************'),\n",
      " ('bd3b7', '********b********d****3*b*******7*****************'),\n",
      " ('gnbde', '***********g**n****b********d**e******************')]\n",
      "Epoch: 113, train_loss=0.07573712590890817, valid_loss=0.2096489377033252\n"
     ]
    },
    {
     "name": "stderr",
     "output_type": "stream",
     "text": [
      "100%|██████████| 117/117 [00:07<00:00, 16.53it/s]\n",
      "100%|██████████| 13/13 [00:05<00:00,  2.58it/s]\n"
     ]
    },
    {
     "name": "stdout",
     "output_type": "stream",
     "text": [
      "[('7bwm2', '***********7*b****w******n**********2*************'),\n",
      " ('8684m', '***********8**6*******8****4**n*******************'),\n",
      " ('d66cn', '***********d**6****6*****c****n*******************'),\n",
      " ('bd3b7', '********b********d****3*b*******7*****************'),\n",
      " ('gnbde', '***********g**n****b********d**e******************')]\n",
      "Epoch: 114, train_loss=0.07711808413314895, valid_loss=0.1918527755098274\n"
     ]
    },
    {
     "name": "stderr",
     "output_type": "stream",
     "text": [
      "100%|██████████| 117/117 [00:06<00:00, 16.89it/s]\n",
      "100%|██████████| 13/13 [00:05<00:00,  2.60it/s]\n"
     ]
    },
    {
     "name": "stdout",
     "output_type": "stream",
     "text": [
      "[('7bwm2', '***********7*b****w******n**********2*************'),\n",
      " ('8684m', '***********8**6*******8****4**n*******************'),\n",
      " ('d66cn', '***********d**6****6*****c****n*******************'),\n",
      " ('bd3b7', '********b********d****3*b*******7*****************'),\n",
      " ('gnbde', '***********g**n****b********d**e******************')]\n",
      "Epoch: 115, train_loss=0.08225288645674785, valid_loss=0.2662040622761616\n"
     ]
    },
    {
     "name": "stderr",
     "output_type": "stream",
     "text": [
      "100%|██████████| 117/117 [00:06<00:00, 16.92it/s]\n",
      "100%|██████████| 13/13 [00:05<00:00,  2.60it/s]\n"
     ]
    },
    {
     "name": "stdout",
     "output_type": "stream",
     "text": [
      "[('7bwm2', '***********7*b****w******n**********2*************'),\n",
      " ('8684m', '***********8**6*******8****4**n*******************'),\n",
      " ('d66cn', '***********d**6****6*****c****n*******************'),\n",
      " ('bd3b7', '********b********d****3*b*******7*****************'),\n",
      " ('gnbde', '***********g**n****b********d**e******************')]\n",
      "Epoch: 116, train_loss=0.08293605251954152, valid_loss=0.23338742926716805\n"
     ]
    },
    {
     "name": "stderr",
     "output_type": "stream",
     "text": [
      "100%|██████████| 117/117 [00:06<00:00, 16.74it/s]\n",
      "100%|██████████| 13/13 [00:05<00:00,  2.58it/s]\n"
     ]
    },
    {
     "name": "stdout",
     "output_type": "stream",
     "text": [
      "[('7bwm2', '***********7*b****w******n**********2*************'),\n",
      " ('8684m', '***********8**6*******8****4**n*******************'),\n",
      " ('d66cn', '***********d**6****6*****c****n*******************'),\n",
      " ('bd3b7', '********b********d****3*b*******7*****************'),\n",
      " ('gnbde', '***********g**n****b********d**e******************')]\n",
      "Epoch: 117, train_loss=0.08067910835688186, valid_loss=0.19832944092698968\n"
     ]
    },
    {
     "name": "stderr",
     "output_type": "stream",
     "text": [
      "100%|██████████| 117/117 [00:06<00:00, 16.82it/s]\n",
      "100%|██████████| 13/13 [00:04<00:00,  2.61it/s]\n"
     ]
    },
    {
     "name": "stdout",
     "output_type": "stream",
     "text": [
      "[('7bwm2', '***********7*b****w******n**********2*************'),\n",
      " ('8684m', '***********8**6*******8****4**n*******************'),\n",
      " ('d66cn', '***********d**6****6*****c****n*******************'),\n",
      " ('bd3b7', '********b********d****3*b*******7*****************'),\n",
      " ('gnbde', '***********g**n****b********d**e******************')]\n",
      "Epoch: 118, train_loss=0.07826926795622477, valid_loss=0.20103887697825065\n"
     ]
    },
    {
     "name": "stderr",
     "output_type": "stream",
     "text": [
      "100%|██████████| 117/117 [00:07<00:00, 16.71it/s]\n",
      "100%|██████████| 13/13 [00:05<00:00,  2.49it/s]\n"
     ]
    },
    {
     "name": "stdout",
     "output_type": "stream",
     "text": [
      "[('7bwm2', '***********7*b****w******n**********2*************'),\n",
      " ('8684m', '***********8**6*******8****4**n*******************'),\n",
      " ('d66cn', '***********d**6****6*****c****n*******************'),\n",
      " ('bd3b7', '********b********d****3*b*******7*****************'),\n",
      " ('gnbde', '***********g**n****b********d**e******************')]\n",
      "Epoch: 119, train_loss=0.06574531307077816, valid_loss=0.18249592933660516\n"
     ]
    },
    {
     "name": "stderr",
     "output_type": "stream",
     "text": [
      "100%|██████████| 117/117 [00:07<00:00, 16.59it/s]\n",
      "100%|██████████| 13/13 [00:05<00:00,  2.47it/s]\n"
     ]
    },
    {
     "name": "stdout",
     "output_type": "stream",
     "text": [
      "[('7bwm2', '***********7*b****w******n**********2*************'),\n",
      " ('8684m', '***********8**6*******8****4**n*******************'),\n",
      " ('d66cn', '***********d**6****6*****c****n*******************'),\n",
      " ('bd3b7', '********b********d****3*b*******7*****************'),\n",
      " ('gnbde', '***********g**n****b********d**e******************')]\n",
      "Epoch: 120, train_loss=0.07477193715799059, valid_loss=0.1927247322522677\n"
     ]
    },
    {
     "name": "stderr",
     "output_type": "stream",
     "text": [
      "100%|██████████| 117/117 [00:06<00:00, 16.72it/s]\n",
      "100%|██████████| 13/13 [00:04<00:00,  2.60it/s]\n"
     ]
    },
    {
     "name": "stdout",
     "output_type": "stream",
     "text": [
      "[('7bwm2', '***********7*b****w******n**********2*************'),\n",
      " ('8684m', '***********8**6*******8****4**n*******************'),\n",
      " ('d66cn', '***********d**6****6*****c****n*******************'),\n",
      " ('bd3b7', '********b********d****3*b*******7*****************'),\n",
      " ('gnbde', '***********g**n****b********d**e******************')]\n",
      "Epoch: 121, train_loss=0.07830102065514423, valid_loss=0.16970998392655298\n"
     ]
    },
    {
     "name": "stderr",
     "output_type": "stream",
     "text": [
      "100%|██████████| 117/117 [00:07<00:00, 16.20it/s]\n",
      "100%|██████████| 13/13 [00:04<00:00,  2.61it/s]\n"
     ]
    },
    {
     "name": "stdout",
     "output_type": "stream",
     "text": [
      "[('7bwm2', '***********7*b****w******n**********2*************'),\n",
      " ('8684m', '***********8**6*******8****4**n*******************'),\n",
      " ('d66cn', '***********d**6****6*****c****n*******************'),\n",
      " ('bd3b7', '********b********d****3*b*******7*****************'),\n",
      " ('gnbde', '***********g**n****b********d**e******************')]\n",
      "Epoch: 122, train_loss=0.07113289169203012, valid_loss=0.18313416337164548\n"
     ]
    },
    {
     "name": "stderr",
     "output_type": "stream",
     "text": [
      "100%|██████████| 117/117 [00:07<00:00, 15.52it/s]\n",
      "100%|██████████| 13/13 [00:04<00:00,  2.62it/s]\n"
     ]
    },
    {
     "name": "stdout",
     "output_type": "stream",
     "text": [
      "[('7bwm2', '***********7*b****w******n**********2*************'),\n",
      " ('8684m', '***********8**6*******8****4**n*******************'),\n",
      " ('d66cn', '***********d**6****6*****c****n*******************'),\n",
      " ('bd3b7', '********b********d****3*b*******7*****************'),\n",
      " ('gnbde', '***********g**n****b********d**e******************')]\n",
      "Epoch: 123, train_loss=0.07045518304420333, valid_loss=0.19974500428025538\n"
     ]
    },
    {
     "name": "stderr",
     "output_type": "stream",
     "text": [
      "100%|██████████| 117/117 [00:06<00:00, 16.95it/s]\n",
      "100%|██████████| 13/13 [00:04<00:00,  2.62it/s]\n"
     ]
    },
    {
     "name": "stdout",
     "output_type": "stream",
     "text": [
      "[('7bwm2', '***********7*b****w******n**********2*************'),\n",
      " ('8684m', '***********8**6*******8****4**n*******************'),\n",
      " ('d66cn', '***********d**6****6*****c****n*******************'),\n",
      " ('bd3b7', '********b********d****3*b*******7*****************'),\n",
      " ('gnbde', '***********g**n****b********d**e******************')]\n",
      "Epoch: 124, train_loss=0.07632093097314112, valid_loss=0.20213080598757818\n"
     ]
    },
    {
     "name": "stderr",
     "output_type": "stream",
     "text": [
      "100%|██████████| 117/117 [00:06<00:00, 16.93it/s]\n",
      "100%|██████████| 13/13 [00:05<00:00,  2.59it/s]\n"
     ]
    },
    {
     "name": "stdout",
     "output_type": "stream",
     "text": [
      "[('7bwm2', '***********7*b****w******n**********2*************'),\n",
      " ('8684m', '***********8**6*******8****4**n*******************'),\n",
      " ('d66cn', '***********d**6****6*****c****n*******************'),\n",
      " ('bd3b7', '********b********d****3*b*******7*****************'),\n",
      " ('gnbde', '***********g**n****b********d**e******************')]\n",
      "Epoch: 125, train_loss=0.07587784100483116, valid_loss=0.2167613274202897\n"
     ]
    },
    {
     "name": "stderr",
     "output_type": "stream",
     "text": [
      "100%|██████████| 117/117 [00:07<00:00, 16.69it/s]\n",
      "100%|██████████| 13/13 [00:04<00:00,  2.62it/s]\n"
     ]
    },
    {
     "name": "stdout",
     "output_type": "stream",
     "text": [
      "[('7bwm2', '***********7*b****w******n**********2*************'),\n",
      " ('8684m', '***********8**6*******8****4**n*******************'),\n",
      " ('d66cn', '***********d**6****6*****c****n*******************'),\n",
      " ('bd3b7', '********b********d****3*b*******7*****************'),\n",
      " ('gnbde', '***********g**n****b********d**e******************')]\n",
      "Epoch: 126, train_loss=0.06373261366612636, valid_loss=0.21918622289712614\n"
     ]
    },
    {
     "name": "stderr",
     "output_type": "stream",
     "text": [
      "100%|██████████| 117/117 [00:07<00:00, 15.25it/s]\n",
      "100%|██████████| 13/13 [00:05<00:00,  2.59it/s]\n"
     ]
    },
    {
     "name": "stdout",
     "output_type": "stream",
     "text": [
      "[('7bwm2', '***********7*b****w******n**********2*************'),\n",
      " ('8684m', '***********8**6*******8****4**n*******************'),\n",
      " ('d66cn', '***********d**6****6*****c****n*******************'),\n",
      " ('bd3b7', '********b********d****3*b*******7*****************'),\n",
      " ('gnbde', '***********g**n****b********d**e******************')]\n",
      "Epoch: 127, train_loss=0.06289727993420938, valid_loss=0.21373743578218496\n"
     ]
    },
    {
     "name": "stderr",
     "output_type": "stream",
     "text": [
      "100%|██████████| 117/117 [00:06<00:00, 18.78it/s]\n",
      "100%|██████████| 13/13 [00:04<00:00,  2.68it/s]\n"
     ]
    },
    {
     "name": "stdout",
     "output_type": "stream",
     "text": [
      "[('7bwm2', '***********7*b****w******n**********2*************'),\n",
      " ('8684m', '***********8**6*******8****4**n*******************'),\n",
      " ('d66cn', '***********d**6****6*****c****n*******************'),\n",
      " ('bd3b7', '********b********d****3*b*******7*****************'),\n",
      " ('gnbde', '***********g**n****b********d**e******************')]\n",
      "Epoch: 128, train_loss=0.0755597073584795, valid_loss=0.20638498477637768\n"
     ]
    },
    {
     "name": "stderr",
     "output_type": "stream",
     "text": [
      "100%|██████████| 117/117 [00:06<00:00, 18.63it/s]\n",
      "100%|██████████| 13/13 [00:04<00:00,  2.74it/s]\n"
     ]
    },
    {
     "name": "stdout",
     "output_type": "stream",
     "text": [
      "[('7bwm2', '***********7*b****w******n**********2*************'),\n",
      " ('8684m', '***********8**6*******8****4**n*******************'),\n",
      " ('d66cn', '***********d**6****6*****c****n*******************'),\n",
      " ('bd3b7', '********b********d****3*b*******7*****************'),\n",
      " ('gnbde', '***********g**n****b********d**e******************')]\n",
      "Epoch: 129, train_loss=0.06456525960905302, valid_loss=0.23330408363388136\n"
     ]
    },
    {
     "name": "stderr",
     "output_type": "stream",
     "text": [
      "100%|██████████| 117/117 [00:06<00:00, 17.70it/s]\n",
      "100%|██████████| 13/13 [00:04<00:00,  2.72it/s]\n"
     ]
    },
    {
     "name": "stdout",
     "output_type": "stream",
     "text": [
      "[('7bwm2', '***********7*b****w******n**********2*************'),\n",
      " ('8684m', '***********8**6*******8****4**n*******************'),\n",
      " ('d66cn', '***********d**6****6*****c****n*******************'),\n",
      " ('bd3b7', '********b********d****3*b*******7*****************'),\n",
      " ('gnbde', '***********g**n****b********d**e******************')]\n",
      "Epoch: 130, train_loss=0.06646614591790061, valid_loss=0.2771907083403606\n"
     ]
    },
    {
     "name": "stderr",
     "output_type": "stream",
     "text": [
      "  0%|          | 0/117 [00:00<?, ?it/s]"
     ]
    }
   ],
   "source": [
    "model = CaptchaModel(num_chars=len(lbl_enc.classes_))\n",
    "model.to(config.DEVICE)\n",
    "\n",
    "optimizer = torch.optim.Adam(model.parameters(), lr=3e-4)\n",
    "scheduler = torch.optim.lr_scheduler.ReduceLROnPlateau(\n",
    "    optimizer, factor=0.8, patience=5, verbose=True\n",
    ")\n",
    "\n",
    "for epoch in range(config.EPOCHS):\n",
    "    train_loss = engine.train_fn(model, train_dataloader, optimizer)\n",
    "    valid_preds, valid_loss = engine.eval_fn(model, test_dataloader)\n",
    "    valid_cap_preds = []\n",
    "    for vp in valid_preds:\n",
    "        current_preds = decode_predictions(vp, lbl_enc)\n",
    "        valid_cap_preds.extend(current_preds)\n",
    "    # print(valid_cap_preds)\n",
    "    pprint(list(zip(test_orig_targets, valid_cap_preds))[6:11])\n",
    "    print(f\"Epoch: {epoch}, train_loss={train_loss}, valid_loss={valid_loss}\")\n",
    "    \n",
    "    "
   ]
  },
  {
   "cell_type": "code",
   "execution_count": null,
   "metadata": {},
   "outputs": [],
   "source": []
  }
 ],
 "metadata": {
  "kernelspec": {
   "display_name": "pytorch",
   "language": "python",
   "name": "python3"
  },
  "language_info": {
   "codemirror_mode": {
    "name": "ipython",
    "version": 3
   },
   "file_extension": ".py",
   "mimetype": "text/x-python",
   "name": "python",
   "nbconvert_exporter": "python",
   "pygments_lexer": "ipython3",
   "version": "3.12.7"
  }
 },
 "nbformat": 4,
 "nbformat_minor": 2
}
